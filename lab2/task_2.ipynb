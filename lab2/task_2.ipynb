{
  "nbformat": 4,
  "nbformat_minor": 0,
  "metadata": {
    "colab": {
      "provenance": [],
      "include_colab_link": true
    },
    "kernelspec": {
      "name": "python3",
      "display_name": "Python 3"
    },
    "language_info": {
      "name": "python"
    }
  },
  "cells": [
    {
      "cell_type": "markdown",
      "metadata": {
        "id": "view-in-github",
        "colab_type": "text"
      },
      "source": [
        "<a href=\"https://colab.research.google.com/github/ichaelo/ML-LAB_1/blob/main/lab2/task_2.ipynb\" target=\"_parent\"><img src=\"https://colab.research.google.com/assets/colab-badge.svg\" alt=\"Open In Colab\"/></a>"
      ]
    },
    {
      "cell_type": "markdown",
      "source": [
        "#Задание по практике 2"
      ],
      "metadata": {
        "id": "_dGfjiUjUNab"
      }
    },
    {
      "cell_type": "code",
      "source": [
        "!pip install pandas\n",
        "!pip install seaborn"
      ],
      "metadata": {
        "id": "wXXP-hXKrxPW",
        "colab": {
          "base_uri": "https://localhost:8080/"
        },
        "outputId": "f386adb8-f124-4f38-a67c-347e92ffabb7"
      },
      "execution_count": 28,
      "outputs": [
        {
          "output_type": "stream",
          "name": "stdout",
          "text": [
            "Requirement already satisfied: pandas in /usr/local/lib/python3.10/dist-packages (1.5.3)\n",
            "Requirement already satisfied: python-dateutil>=2.8.1 in /usr/local/lib/python3.10/dist-packages (from pandas) (2.8.2)\n",
            "Requirement already satisfied: pytz>=2020.1 in /usr/local/lib/python3.10/dist-packages (from pandas) (2023.3.post1)\n",
            "Requirement already satisfied: numpy>=1.21.0 in /usr/local/lib/python3.10/dist-packages (from pandas) (1.23.5)\n",
            "Requirement already satisfied: six>=1.5 in /usr/local/lib/python3.10/dist-packages (from python-dateutil>=2.8.1->pandas) (1.16.0)\n",
            "Requirement already satisfied: seaborn in /usr/local/lib/python3.10/dist-packages (0.12.2)\n",
            "Requirement already satisfied: numpy!=1.24.0,>=1.17 in /usr/local/lib/python3.10/dist-packages (from seaborn) (1.23.5)\n",
            "Requirement already satisfied: pandas>=0.25 in /usr/local/lib/python3.10/dist-packages (from seaborn) (1.5.3)\n",
            "Requirement already satisfied: matplotlib!=3.6.1,>=3.1 in /usr/local/lib/python3.10/dist-packages (from seaborn) (3.7.1)\n",
            "Requirement already satisfied: contourpy>=1.0.1 in /usr/local/lib/python3.10/dist-packages (from matplotlib!=3.6.1,>=3.1->seaborn) (1.1.1)\n",
            "Requirement already satisfied: cycler>=0.10 in /usr/local/lib/python3.10/dist-packages (from matplotlib!=3.6.1,>=3.1->seaborn) (0.12.0)\n",
            "Requirement already satisfied: fonttools>=4.22.0 in /usr/local/lib/python3.10/dist-packages (from matplotlib!=3.6.1,>=3.1->seaborn) (4.43.0)\n",
            "Requirement already satisfied: kiwisolver>=1.0.1 in /usr/local/lib/python3.10/dist-packages (from matplotlib!=3.6.1,>=3.1->seaborn) (1.4.5)\n",
            "Requirement already satisfied: packaging>=20.0 in /usr/local/lib/python3.10/dist-packages (from matplotlib!=3.6.1,>=3.1->seaborn) (23.2)\n",
            "Requirement already satisfied: pillow>=6.2.0 in /usr/local/lib/python3.10/dist-packages (from matplotlib!=3.6.1,>=3.1->seaborn) (9.4.0)\n",
            "Requirement already satisfied: pyparsing>=2.3.1 in /usr/local/lib/python3.10/dist-packages (from matplotlib!=3.6.1,>=3.1->seaborn) (3.1.1)\n",
            "Requirement already satisfied: python-dateutil>=2.7 in /usr/local/lib/python3.10/dist-packages (from matplotlib!=3.6.1,>=3.1->seaborn) (2.8.2)\n",
            "Requirement already satisfied: pytz>=2020.1 in /usr/local/lib/python3.10/dist-packages (from pandas>=0.25->seaborn) (2023.3.post1)\n",
            "Requirement already satisfied: six>=1.5 in /usr/local/lib/python3.10/dist-packages (from python-dateutil>=2.7->matplotlib!=3.6.1,>=3.1->seaborn) (1.16.0)\n"
          ]
        }
      ]
    },
    {
      "cell_type": "code",
      "execution_count": 27,
      "metadata": {
        "id": "7u0VPzz-UKNu"
      },
      "outputs": [],
      "source": [
        "import pandas as pd\n",
        "import seaborn as sns\n",
        "import matplotlib.pyplot as plt\n",
        "import numpy as np"
      ]
    },
    {
      "cell_type": "markdown",
      "source": [],
      "metadata": {
        "id": "F7NhyBZzdZ1F"
      }
    },
    {
      "cell_type": "markdown",
      "source": [
        "##Введение в описательную статистику"
      ],
      "metadata": {
        "id": "yKPA-E-VVSS-"
      }
    },
    {
      "cell_type": "markdown",
      "source": [
        "1. Выберите категориальную целевую переменную (**Y**)\n",
        "\n",
        "2. Выберите переменную для анализа относительно категории (**X**)\n",
        "\n",
        "3. Выведитие обобщенную статистическую информацию переменной (**X**)\n",
        "\n",
        "2. Вычислите среднее, медиану, моду, минимум, максимум, стандартное отклонение относительно целевой пременной из файла Classification datasets в соответствии с вашим вариантом\n",
        "\n",
        "3. Сделайте вывод относительно полученных результатов\n",
        "\n",
        "p.s если у вас нет категориальных признаков - преобразуйте любой числовой в категориальный (https://pandas.pydata.org/docs/reference/api/pandas.cut.html). Важно **не** использовать преобразованный Y вместе с этим же X (то есть, если вы преобразовали возраст в категорию, то вы не моежет использовать возраст в качестве X и возраст категорию в качестве Y)"
      ],
      "metadata": {
        "id": "Rrr4WPcGUwOx"
      }
    },
    {
      "cell_type": "markdown",
      "source": [
        "Y - Entity\n",
        "\n",
        "---\n",
        "\n",
        "\n",
        "X - Primary energy consumption per capita (kWh/person)"
      ],
      "metadata": {
        "id": "Qu7wT6W6bCNd"
      }
    },
    {
      "cell_type": "code",
      "source": [
        "df = pd.read_csv(\"/content/dataset/global-data-on-sustainable-energy.csv\")\n",
        "df"
      ],
      "metadata": {
        "id": "wZiCpTwgUuYw",
        "colab": {
          "base_uri": "https://localhost:8080/",
          "height": 565
        },
        "outputId": "388326b6-5488-4e63-bcb4-4b7a63567595"
      },
      "execution_count": 49,
      "outputs": [
        {
          "output_type": "execute_result",
          "data": {
            "text/plain": [
              "           Entity  Year  Access to electricity (% of population)  \\\n",
              "0     Afghanistan  2000                                 1.613591   \n",
              "1     Afghanistan  2001                                 4.074574   \n",
              "2     Afghanistan  2002                                 9.409158   \n",
              "3     Afghanistan  2003                                14.738506   \n",
              "4     Afghanistan  2004                                20.064968   \n",
              "...           ...   ...                                      ...   \n",
              "3644     Zimbabwe  2016                                42.561730   \n",
              "3645     Zimbabwe  2017                                44.178635   \n",
              "3646     Zimbabwe  2018                                45.572647   \n",
              "3647     Zimbabwe  2019                                46.781475   \n",
              "3648     Zimbabwe  2020                                52.747670   \n",
              "\n",
              "      Access to clean fuels for cooking  \\\n",
              "0                                   6.2   \n",
              "1                                   7.2   \n",
              "2                                   8.2   \n",
              "3                                   9.5   \n",
              "4                                  10.9   \n",
              "...                                 ...   \n",
              "3644                               29.8   \n",
              "3645                               29.8   \n",
              "3646                               29.9   \n",
              "3647                               30.1   \n",
              "3648                               30.4   \n",
              "\n",
              "      Renewable-electricity-generating-capacity-per-capita  \\\n",
              "0                                                  9.22      \n",
              "1                                                  8.86      \n",
              "2                                                  8.47      \n",
              "3                                                  8.09      \n",
              "4                                                  7.75      \n",
              "...                                                 ...      \n",
              "3644                                              62.88      \n",
              "3645                                              62.33      \n",
              "3646                                              82.53      \n",
              "3647                                              81.40      \n",
              "3648                                              80.61      \n",
              "\n",
              "      Financial flows to developing countries (US $)  \\\n",
              "0                                            20000.0   \n",
              "1                                           130000.0   \n",
              "2                                          3950000.0   \n",
              "3                                         25970000.0   \n",
              "4                                                NaN   \n",
              "...                                              ...   \n",
              "3644                                         30000.0   \n",
              "3645                                       5570000.0   \n",
              "3646                                         10000.0   \n",
              "3647                                        250000.0   \n",
              "3648                                         30000.0   \n",
              "\n",
              "      Renewable energy share in the total final energy consumption (%)  \\\n",
              "0                                                 44.99                  \n",
              "1                                                 45.60                  \n",
              "2                                                 37.83                  \n",
              "3                                                 36.66                  \n",
              "4                                                 44.24                  \n",
              "...                                                 ...                  \n",
              "3644                                              81.90                  \n",
              "3645                                              82.46                  \n",
              "3646                                              80.23                  \n",
              "3647                                              81.50                  \n",
              "3648                                              81.90                  \n",
              "\n",
              "      Electricity from fossil fuels (TWh)  Electricity from nuclear (TWh)  \\\n",
              "0                                    0.16                             0.0   \n",
              "1                                    0.09                             0.0   \n",
              "2                                    0.13                             0.0   \n",
              "3                                    0.31                             0.0   \n",
              "4                                    0.33                             0.0   \n",
              "...                                   ...                             ...   \n",
              "3644                                 3.50                             0.0   \n",
              "3645                                 3.05                             0.0   \n",
              "3646                                 3.73                             0.0   \n",
              "3647                                 3.66                             0.0   \n",
              "3648                                 3.40                             0.0   \n",
              "\n",
              "      Electricity from renewables (TWh)  ...  \\\n",
              "0                                  0.31  ...   \n",
              "1                                  0.50  ...   \n",
              "2                                  0.56  ...   \n",
              "3                                  0.63  ...   \n",
              "4                                  0.56  ...   \n",
              "...                                 ...  ...   \n",
              "3644                               3.32  ...   \n",
              "3645                               4.30  ...   \n",
              "3646                               5.46  ...   \n",
              "3647                               4.58  ...   \n",
              "3648                               4.19  ...   \n",
              "\n",
              "      Primary energy consumption per capita (kWh/person)  \\\n",
              "0                                             302.59482    \n",
              "1                                             236.89185    \n",
              "2                                             210.86215    \n",
              "3                                             229.96822    \n",
              "4                                             204.23125    \n",
              "...                                                 ...    \n",
              "3644                                         3227.68020    \n",
              "3645                                         3068.01150    \n",
              "3646                                         3441.98580    \n",
              "3647                                         3003.65530    \n",
              "3648                                         2680.13180    \n",
              "\n",
              "      Energy intensity level of primary energy (MJ/$2017 PPP GDP)  \\\n",
              "0                                                  1.64             \n",
              "1                                                  1.74             \n",
              "2                                                  1.40             \n",
              "3                                                  1.40             \n",
              "4                                                  1.20             \n",
              "...                                                 ...             \n",
              "3644                                              10.00             \n",
              "3645                                               9.51             \n",
              "3646                                               9.83             \n",
              "3647                                              10.47             \n",
              "3648                                              10.00             \n",
              "\n",
              "      Value_co2_emissions_kt_by_country  \\\n",
              "0                            760.000000   \n",
              "1                            730.000000   \n",
              "2                           1029.999971   \n",
              "3                           1220.000029   \n",
              "4                           1029.999971   \n",
              "...                                 ...   \n",
              "3644                       11020.000460   \n",
              "3645                       10340.000150   \n",
              "3646                       12380.000110   \n",
              "3647                       11760.000230   \n",
              "3648                                NaN   \n",
              "\n",
              "      Renewables (% equivalent primary energy)  gdp_growth  gdp_per_capita  \\\n",
              "0                                          NaN         NaN             NaN   \n",
              "1                                          NaN         NaN             NaN   \n",
              "2                                          NaN         NaN      179.426579   \n",
              "3                                          NaN    8.832278      190.683814   \n",
              "4                                          NaN    1.414118      211.382074   \n",
              "...                                        ...         ...             ...   \n",
              "3644                                       NaN    0.755869     1464.588957   \n",
              "3645                                       NaN    4.709492     1235.189032   \n",
              "3646                                       NaN    4.824211     1254.642265   \n",
              "3647                                       NaN   -6.144236     1316.740657   \n",
              "3648                                       NaN   -6.248748     1214.509820   \n",
              "\n",
              "      Density\\n(P/Km2) Land Area(Km2)   Latitude  Longitude  \n",
              "0                   60       652230.0  33.939110  67.709953  \n",
              "1                   60       652230.0  33.939110  67.709953  \n",
              "2                   60       652230.0  33.939110  67.709953  \n",
              "3                   60       652230.0  33.939110  67.709953  \n",
              "4                   60       652230.0  33.939110  67.709953  \n",
              "...                ...            ...        ...        ...  \n",
              "3644                38       390757.0 -19.015438  29.154857  \n",
              "3645                38       390757.0 -19.015438  29.154857  \n",
              "3646                38       390757.0 -19.015438  29.154857  \n",
              "3647                38       390757.0 -19.015438  29.154857  \n",
              "3648                38       390757.0 -19.015438  29.154857  \n",
              "\n",
              "[3649 rows x 21 columns]"
            ],
            "text/html": [
              "\n",
              "  <div id=\"df-eef1c286-432e-4c6f-a262-424c46f0f8eb\" class=\"colab-df-container\">\n",
              "    <div>\n",
              "<style scoped>\n",
              "    .dataframe tbody tr th:only-of-type {\n",
              "        vertical-align: middle;\n",
              "    }\n",
              "\n",
              "    .dataframe tbody tr th {\n",
              "        vertical-align: top;\n",
              "    }\n",
              "\n",
              "    .dataframe thead th {\n",
              "        text-align: right;\n",
              "    }\n",
              "</style>\n",
              "<table border=\"1\" class=\"dataframe\">\n",
              "  <thead>\n",
              "    <tr style=\"text-align: right;\">\n",
              "      <th></th>\n",
              "      <th>Entity</th>\n",
              "      <th>Year</th>\n",
              "      <th>Access to electricity (% of population)</th>\n",
              "      <th>Access to clean fuels for cooking</th>\n",
              "      <th>Renewable-electricity-generating-capacity-per-capita</th>\n",
              "      <th>Financial flows to developing countries (US $)</th>\n",
              "      <th>Renewable energy share in the total final energy consumption (%)</th>\n",
              "      <th>Electricity from fossil fuels (TWh)</th>\n",
              "      <th>Electricity from nuclear (TWh)</th>\n",
              "      <th>Electricity from renewables (TWh)</th>\n",
              "      <th>...</th>\n",
              "      <th>Primary energy consumption per capita (kWh/person)</th>\n",
              "      <th>Energy intensity level of primary energy (MJ/$2017 PPP GDP)</th>\n",
              "      <th>Value_co2_emissions_kt_by_country</th>\n",
              "      <th>Renewables (% equivalent primary energy)</th>\n",
              "      <th>gdp_growth</th>\n",
              "      <th>gdp_per_capita</th>\n",
              "      <th>Density\\n(P/Km2)</th>\n",
              "      <th>Land Area(Km2)</th>\n",
              "      <th>Latitude</th>\n",
              "      <th>Longitude</th>\n",
              "    </tr>\n",
              "  </thead>\n",
              "  <tbody>\n",
              "    <tr>\n",
              "      <th>0</th>\n",
              "      <td>Afghanistan</td>\n",
              "      <td>2000</td>\n",
              "      <td>1.613591</td>\n",
              "      <td>6.2</td>\n",
              "      <td>9.22</td>\n",
              "      <td>20000.0</td>\n",
              "      <td>44.99</td>\n",
              "      <td>0.16</td>\n",
              "      <td>0.0</td>\n",
              "      <td>0.31</td>\n",
              "      <td>...</td>\n",
              "      <td>302.59482</td>\n",
              "      <td>1.64</td>\n",
              "      <td>760.000000</td>\n",
              "      <td>NaN</td>\n",
              "      <td>NaN</td>\n",
              "      <td>NaN</td>\n",
              "      <td>60</td>\n",
              "      <td>652230.0</td>\n",
              "      <td>33.939110</td>\n",
              "      <td>67.709953</td>\n",
              "    </tr>\n",
              "    <tr>\n",
              "      <th>1</th>\n",
              "      <td>Afghanistan</td>\n",
              "      <td>2001</td>\n",
              "      <td>4.074574</td>\n",
              "      <td>7.2</td>\n",
              "      <td>8.86</td>\n",
              "      <td>130000.0</td>\n",
              "      <td>45.60</td>\n",
              "      <td>0.09</td>\n",
              "      <td>0.0</td>\n",
              "      <td>0.50</td>\n",
              "      <td>...</td>\n",
              "      <td>236.89185</td>\n",
              "      <td>1.74</td>\n",
              "      <td>730.000000</td>\n",
              "      <td>NaN</td>\n",
              "      <td>NaN</td>\n",
              "      <td>NaN</td>\n",
              "      <td>60</td>\n",
              "      <td>652230.0</td>\n",
              "      <td>33.939110</td>\n",
              "      <td>67.709953</td>\n",
              "    </tr>\n",
              "    <tr>\n",
              "      <th>2</th>\n",
              "      <td>Afghanistan</td>\n",
              "      <td>2002</td>\n",
              "      <td>9.409158</td>\n",
              "      <td>8.2</td>\n",
              "      <td>8.47</td>\n",
              "      <td>3950000.0</td>\n",
              "      <td>37.83</td>\n",
              "      <td>0.13</td>\n",
              "      <td>0.0</td>\n",
              "      <td>0.56</td>\n",
              "      <td>...</td>\n",
              "      <td>210.86215</td>\n",
              "      <td>1.40</td>\n",
              "      <td>1029.999971</td>\n",
              "      <td>NaN</td>\n",
              "      <td>NaN</td>\n",
              "      <td>179.426579</td>\n",
              "      <td>60</td>\n",
              "      <td>652230.0</td>\n",
              "      <td>33.939110</td>\n",
              "      <td>67.709953</td>\n",
              "    </tr>\n",
              "    <tr>\n",
              "      <th>3</th>\n",
              "      <td>Afghanistan</td>\n",
              "      <td>2003</td>\n",
              "      <td>14.738506</td>\n",
              "      <td>9.5</td>\n",
              "      <td>8.09</td>\n",
              "      <td>25970000.0</td>\n",
              "      <td>36.66</td>\n",
              "      <td>0.31</td>\n",
              "      <td>0.0</td>\n",
              "      <td>0.63</td>\n",
              "      <td>...</td>\n",
              "      <td>229.96822</td>\n",
              "      <td>1.40</td>\n",
              "      <td>1220.000029</td>\n",
              "      <td>NaN</td>\n",
              "      <td>8.832278</td>\n",
              "      <td>190.683814</td>\n",
              "      <td>60</td>\n",
              "      <td>652230.0</td>\n",
              "      <td>33.939110</td>\n",
              "      <td>67.709953</td>\n",
              "    </tr>\n",
              "    <tr>\n",
              "      <th>4</th>\n",
              "      <td>Afghanistan</td>\n",
              "      <td>2004</td>\n",
              "      <td>20.064968</td>\n",
              "      <td>10.9</td>\n",
              "      <td>7.75</td>\n",
              "      <td>NaN</td>\n",
              "      <td>44.24</td>\n",
              "      <td>0.33</td>\n",
              "      <td>0.0</td>\n",
              "      <td>0.56</td>\n",
              "      <td>...</td>\n",
              "      <td>204.23125</td>\n",
              "      <td>1.20</td>\n",
              "      <td>1029.999971</td>\n",
              "      <td>NaN</td>\n",
              "      <td>1.414118</td>\n",
              "      <td>211.382074</td>\n",
              "      <td>60</td>\n",
              "      <td>652230.0</td>\n",
              "      <td>33.939110</td>\n",
              "      <td>67.709953</td>\n",
              "    </tr>\n",
              "    <tr>\n",
              "      <th>...</th>\n",
              "      <td>...</td>\n",
              "      <td>...</td>\n",
              "      <td>...</td>\n",
              "      <td>...</td>\n",
              "      <td>...</td>\n",
              "      <td>...</td>\n",
              "      <td>...</td>\n",
              "      <td>...</td>\n",
              "      <td>...</td>\n",
              "      <td>...</td>\n",
              "      <td>...</td>\n",
              "      <td>...</td>\n",
              "      <td>...</td>\n",
              "      <td>...</td>\n",
              "      <td>...</td>\n",
              "      <td>...</td>\n",
              "      <td>...</td>\n",
              "      <td>...</td>\n",
              "      <td>...</td>\n",
              "      <td>...</td>\n",
              "      <td>...</td>\n",
              "    </tr>\n",
              "    <tr>\n",
              "      <th>3644</th>\n",
              "      <td>Zimbabwe</td>\n",
              "      <td>2016</td>\n",
              "      <td>42.561730</td>\n",
              "      <td>29.8</td>\n",
              "      <td>62.88</td>\n",
              "      <td>30000.0</td>\n",
              "      <td>81.90</td>\n",
              "      <td>3.50</td>\n",
              "      <td>0.0</td>\n",
              "      <td>3.32</td>\n",
              "      <td>...</td>\n",
              "      <td>3227.68020</td>\n",
              "      <td>10.00</td>\n",
              "      <td>11020.000460</td>\n",
              "      <td>NaN</td>\n",
              "      <td>0.755869</td>\n",
              "      <td>1464.588957</td>\n",
              "      <td>38</td>\n",
              "      <td>390757.0</td>\n",
              "      <td>-19.015438</td>\n",
              "      <td>29.154857</td>\n",
              "    </tr>\n",
              "    <tr>\n",
              "      <th>3645</th>\n",
              "      <td>Zimbabwe</td>\n",
              "      <td>2017</td>\n",
              "      <td>44.178635</td>\n",
              "      <td>29.8</td>\n",
              "      <td>62.33</td>\n",
              "      <td>5570000.0</td>\n",
              "      <td>82.46</td>\n",
              "      <td>3.05</td>\n",
              "      <td>0.0</td>\n",
              "      <td>4.30</td>\n",
              "      <td>...</td>\n",
              "      <td>3068.01150</td>\n",
              "      <td>9.51</td>\n",
              "      <td>10340.000150</td>\n",
              "      <td>NaN</td>\n",
              "      <td>4.709492</td>\n",
              "      <td>1235.189032</td>\n",
              "      <td>38</td>\n",
              "      <td>390757.0</td>\n",
              "      <td>-19.015438</td>\n",
              "      <td>29.154857</td>\n",
              "    </tr>\n",
              "    <tr>\n",
              "      <th>3646</th>\n",
              "      <td>Zimbabwe</td>\n",
              "      <td>2018</td>\n",
              "      <td>45.572647</td>\n",
              "      <td>29.9</td>\n",
              "      <td>82.53</td>\n",
              "      <td>10000.0</td>\n",
              "      <td>80.23</td>\n",
              "      <td>3.73</td>\n",
              "      <td>0.0</td>\n",
              "      <td>5.46</td>\n",
              "      <td>...</td>\n",
              "      <td>3441.98580</td>\n",
              "      <td>9.83</td>\n",
              "      <td>12380.000110</td>\n",
              "      <td>NaN</td>\n",
              "      <td>4.824211</td>\n",
              "      <td>1254.642265</td>\n",
              "      <td>38</td>\n",
              "      <td>390757.0</td>\n",
              "      <td>-19.015438</td>\n",
              "      <td>29.154857</td>\n",
              "    </tr>\n",
              "    <tr>\n",
              "      <th>3647</th>\n",
              "      <td>Zimbabwe</td>\n",
              "      <td>2019</td>\n",
              "      <td>46.781475</td>\n",
              "      <td>30.1</td>\n",
              "      <td>81.40</td>\n",
              "      <td>250000.0</td>\n",
              "      <td>81.50</td>\n",
              "      <td>3.66</td>\n",
              "      <td>0.0</td>\n",
              "      <td>4.58</td>\n",
              "      <td>...</td>\n",
              "      <td>3003.65530</td>\n",
              "      <td>10.47</td>\n",
              "      <td>11760.000230</td>\n",
              "      <td>NaN</td>\n",
              "      <td>-6.144236</td>\n",
              "      <td>1316.740657</td>\n",
              "      <td>38</td>\n",
              "      <td>390757.0</td>\n",
              "      <td>-19.015438</td>\n",
              "      <td>29.154857</td>\n",
              "    </tr>\n",
              "    <tr>\n",
              "      <th>3648</th>\n",
              "      <td>Zimbabwe</td>\n",
              "      <td>2020</td>\n",
              "      <td>52.747670</td>\n",
              "      <td>30.4</td>\n",
              "      <td>80.61</td>\n",
              "      <td>30000.0</td>\n",
              "      <td>81.90</td>\n",
              "      <td>3.40</td>\n",
              "      <td>0.0</td>\n",
              "      <td>4.19</td>\n",
              "      <td>...</td>\n",
              "      <td>2680.13180</td>\n",
              "      <td>10.00</td>\n",
              "      <td>NaN</td>\n",
              "      <td>NaN</td>\n",
              "      <td>-6.248748</td>\n",
              "      <td>1214.509820</td>\n",
              "      <td>38</td>\n",
              "      <td>390757.0</td>\n",
              "      <td>-19.015438</td>\n",
              "      <td>29.154857</td>\n",
              "    </tr>\n",
              "  </tbody>\n",
              "</table>\n",
              "<p>3649 rows × 21 columns</p>\n",
              "</div>\n",
              "    <div class=\"colab-df-buttons\">\n",
              "\n",
              "  <div class=\"colab-df-container\">\n",
              "    <button class=\"colab-df-convert\" onclick=\"convertToInteractive('df-eef1c286-432e-4c6f-a262-424c46f0f8eb')\"\n",
              "            title=\"Convert this dataframe to an interactive table.\"\n",
              "            style=\"display:none;\">\n",
              "\n",
              "  <svg xmlns=\"http://www.w3.org/2000/svg\" height=\"24px\" viewBox=\"0 -960 960 960\">\n",
              "    <path d=\"M120-120v-720h720v720H120Zm60-500h600v-160H180v160Zm220 220h160v-160H400v160Zm0 220h160v-160H400v160ZM180-400h160v-160H180v160Zm440 0h160v-160H620v160ZM180-180h160v-160H180v160Zm440 0h160v-160H620v160Z\"/>\n",
              "  </svg>\n",
              "    </button>\n",
              "\n",
              "  <style>\n",
              "    .colab-df-container {\n",
              "      display:flex;\n",
              "      gap: 12px;\n",
              "    }\n",
              "\n",
              "    .colab-df-convert {\n",
              "      background-color: #E8F0FE;\n",
              "      border: none;\n",
              "      border-radius: 50%;\n",
              "      cursor: pointer;\n",
              "      display: none;\n",
              "      fill: #1967D2;\n",
              "      height: 32px;\n",
              "      padding: 0 0 0 0;\n",
              "      width: 32px;\n",
              "    }\n",
              "\n",
              "    .colab-df-convert:hover {\n",
              "      background-color: #E2EBFA;\n",
              "      box-shadow: 0px 1px 2px rgba(60, 64, 67, 0.3), 0px 1px 3px 1px rgba(60, 64, 67, 0.15);\n",
              "      fill: #174EA6;\n",
              "    }\n",
              "\n",
              "    .colab-df-buttons div {\n",
              "      margin-bottom: 4px;\n",
              "    }\n",
              "\n",
              "    [theme=dark] .colab-df-convert {\n",
              "      background-color: #3B4455;\n",
              "      fill: #D2E3FC;\n",
              "    }\n",
              "\n",
              "    [theme=dark] .colab-df-convert:hover {\n",
              "      background-color: #434B5C;\n",
              "      box-shadow: 0px 1px 3px 1px rgba(0, 0, 0, 0.15);\n",
              "      filter: drop-shadow(0px 1px 2px rgba(0, 0, 0, 0.3));\n",
              "      fill: #FFFFFF;\n",
              "    }\n",
              "  </style>\n",
              "\n",
              "    <script>\n",
              "      const buttonEl =\n",
              "        document.querySelector('#df-eef1c286-432e-4c6f-a262-424c46f0f8eb button.colab-df-convert');\n",
              "      buttonEl.style.display =\n",
              "        google.colab.kernel.accessAllowed ? 'block' : 'none';\n",
              "\n",
              "      async function convertToInteractive(key) {\n",
              "        const element = document.querySelector('#df-eef1c286-432e-4c6f-a262-424c46f0f8eb');\n",
              "        const dataTable =\n",
              "          await google.colab.kernel.invokeFunction('convertToInteractive',\n",
              "                                                    [key], {});\n",
              "        if (!dataTable) return;\n",
              "\n",
              "        const docLinkHtml = 'Like what you see? Visit the ' +\n",
              "          '<a target=\"_blank\" href=https://colab.research.google.com/notebooks/data_table.ipynb>data table notebook</a>'\n",
              "          + ' to learn more about interactive tables.';\n",
              "        element.innerHTML = '';\n",
              "        dataTable['output_type'] = 'display_data';\n",
              "        await google.colab.output.renderOutput(dataTable, element);\n",
              "        const docLink = document.createElement('div');\n",
              "        docLink.innerHTML = docLinkHtml;\n",
              "        element.appendChild(docLink);\n",
              "      }\n",
              "    </script>\n",
              "  </div>\n",
              "\n",
              "\n",
              "<div id=\"df-939ab408-3a30-4c39-8a5d-1d6a9d57349b\">\n",
              "  <button class=\"colab-df-quickchart\" onclick=\"quickchart('df-939ab408-3a30-4c39-8a5d-1d6a9d57349b')\"\n",
              "            title=\"Suggest charts.\"\n",
              "            style=\"display:none;\">\n",
              "\n",
              "<svg xmlns=\"http://www.w3.org/2000/svg\" height=\"24px\"viewBox=\"0 0 24 24\"\n",
              "     width=\"24px\">\n",
              "    <g>\n",
              "        <path d=\"M19 3H5c-1.1 0-2 .9-2 2v14c0 1.1.9 2 2 2h14c1.1 0 2-.9 2-2V5c0-1.1-.9-2-2-2zM9 17H7v-7h2v7zm4 0h-2V7h2v10zm4 0h-2v-4h2v4z\"/>\n",
              "    </g>\n",
              "</svg>\n",
              "  </button>\n",
              "\n",
              "<style>\n",
              "  .colab-df-quickchart {\n",
              "      --bg-color: #E8F0FE;\n",
              "      --fill-color: #1967D2;\n",
              "      --hover-bg-color: #E2EBFA;\n",
              "      --hover-fill-color: #174EA6;\n",
              "      --disabled-fill-color: #AAA;\n",
              "      --disabled-bg-color: #DDD;\n",
              "  }\n",
              "\n",
              "  [theme=dark] .colab-df-quickchart {\n",
              "      --bg-color: #3B4455;\n",
              "      --fill-color: #D2E3FC;\n",
              "      --hover-bg-color: #434B5C;\n",
              "      --hover-fill-color: #FFFFFF;\n",
              "      --disabled-bg-color: #3B4455;\n",
              "      --disabled-fill-color: #666;\n",
              "  }\n",
              "\n",
              "  .colab-df-quickchart {\n",
              "    background-color: var(--bg-color);\n",
              "    border: none;\n",
              "    border-radius: 50%;\n",
              "    cursor: pointer;\n",
              "    display: none;\n",
              "    fill: var(--fill-color);\n",
              "    height: 32px;\n",
              "    padding: 0;\n",
              "    width: 32px;\n",
              "  }\n",
              "\n",
              "  .colab-df-quickchart:hover {\n",
              "    background-color: var(--hover-bg-color);\n",
              "    box-shadow: 0 1px 2px rgba(60, 64, 67, 0.3), 0 1px 3px 1px rgba(60, 64, 67, 0.15);\n",
              "    fill: var(--button-hover-fill-color);\n",
              "  }\n",
              "\n",
              "  .colab-df-quickchart-complete:disabled,\n",
              "  .colab-df-quickchart-complete:disabled:hover {\n",
              "    background-color: var(--disabled-bg-color);\n",
              "    fill: var(--disabled-fill-color);\n",
              "    box-shadow: none;\n",
              "  }\n",
              "\n",
              "  .colab-df-spinner {\n",
              "    border: 2px solid var(--fill-color);\n",
              "    border-color: transparent;\n",
              "    border-bottom-color: var(--fill-color);\n",
              "    animation:\n",
              "      spin 1s steps(1) infinite;\n",
              "  }\n",
              "\n",
              "  @keyframes spin {\n",
              "    0% {\n",
              "      border-color: transparent;\n",
              "      border-bottom-color: var(--fill-color);\n",
              "      border-left-color: var(--fill-color);\n",
              "    }\n",
              "    20% {\n",
              "      border-color: transparent;\n",
              "      border-left-color: var(--fill-color);\n",
              "      border-top-color: var(--fill-color);\n",
              "    }\n",
              "    30% {\n",
              "      border-color: transparent;\n",
              "      border-left-color: var(--fill-color);\n",
              "      border-top-color: var(--fill-color);\n",
              "      border-right-color: var(--fill-color);\n",
              "    }\n",
              "    40% {\n",
              "      border-color: transparent;\n",
              "      border-right-color: var(--fill-color);\n",
              "      border-top-color: var(--fill-color);\n",
              "    }\n",
              "    60% {\n",
              "      border-color: transparent;\n",
              "      border-right-color: var(--fill-color);\n",
              "    }\n",
              "    80% {\n",
              "      border-color: transparent;\n",
              "      border-right-color: var(--fill-color);\n",
              "      border-bottom-color: var(--fill-color);\n",
              "    }\n",
              "    90% {\n",
              "      border-color: transparent;\n",
              "      border-bottom-color: var(--fill-color);\n",
              "    }\n",
              "  }\n",
              "</style>\n",
              "\n",
              "  <script>\n",
              "    async function quickchart(key) {\n",
              "      const quickchartButtonEl =\n",
              "        document.querySelector('#' + key + ' button');\n",
              "      quickchartButtonEl.disabled = true;  // To prevent multiple clicks.\n",
              "      quickchartButtonEl.classList.add('colab-df-spinner');\n",
              "      try {\n",
              "        const charts = await google.colab.kernel.invokeFunction(\n",
              "            'suggestCharts', [key], {});\n",
              "      } catch (error) {\n",
              "        console.error('Error during call to suggestCharts:', error);\n",
              "      }\n",
              "      quickchartButtonEl.classList.remove('colab-df-spinner');\n",
              "      quickchartButtonEl.classList.add('colab-df-quickchart-complete');\n",
              "    }\n",
              "    (() => {\n",
              "      let quickchartButtonEl =\n",
              "        document.querySelector('#df-939ab408-3a30-4c39-8a5d-1d6a9d57349b button');\n",
              "      quickchartButtonEl.style.display =\n",
              "        google.colab.kernel.accessAllowed ? 'block' : 'none';\n",
              "    })();\n",
              "  </script>\n",
              "</div>\n",
              "    </div>\n",
              "  </div>\n"
            ]
          },
          "metadata": {},
          "execution_count": 49
        }
      ]
    },
    {
      "cell_type": "code",
      "source": [
        "df[['Primary energy consumption per capita (kWh/person)']].describe(include='all')"
      ],
      "metadata": {
        "id": "u3OeTGcGp2sY",
        "colab": {
          "base_uri": "https://localhost:8080/",
          "height": 300
        },
        "outputId": "f66047d3-06b5-42ff-ef1f-03cc014804af"
      },
      "execution_count": 50,
      "outputs": [
        {
          "output_type": "execute_result",
          "data": {
            "text/plain": [
              "       Primary energy consumption per capita (kWh/person)\n",
              "count                                        3649.000000 \n",
              "mean                                        25743.981745 \n",
              "std                                         34773.221366 \n",
              "min                                             0.000000 \n",
              "25%                                          3116.737300 \n",
              "50%                                         13120.570000 \n",
              "75%                                         33892.780000 \n",
              "max                                        262585.700000 "
            ],
            "text/html": [
              "\n",
              "  <div id=\"df-8be0410c-1e51-445b-8bdf-9d3d85aa7a08\" class=\"colab-df-container\">\n",
              "    <div>\n",
              "<style scoped>\n",
              "    .dataframe tbody tr th:only-of-type {\n",
              "        vertical-align: middle;\n",
              "    }\n",
              "\n",
              "    .dataframe tbody tr th {\n",
              "        vertical-align: top;\n",
              "    }\n",
              "\n",
              "    .dataframe thead th {\n",
              "        text-align: right;\n",
              "    }\n",
              "</style>\n",
              "<table border=\"1\" class=\"dataframe\">\n",
              "  <thead>\n",
              "    <tr style=\"text-align: right;\">\n",
              "      <th></th>\n",
              "      <th>Primary energy consumption per capita (kWh/person)</th>\n",
              "    </tr>\n",
              "  </thead>\n",
              "  <tbody>\n",
              "    <tr>\n",
              "      <th>count</th>\n",
              "      <td>3649.000000</td>\n",
              "    </tr>\n",
              "    <tr>\n",
              "      <th>mean</th>\n",
              "      <td>25743.981745</td>\n",
              "    </tr>\n",
              "    <tr>\n",
              "      <th>std</th>\n",
              "      <td>34773.221366</td>\n",
              "    </tr>\n",
              "    <tr>\n",
              "      <th>min</th>\n",
              "      <td>0.000000</td>\n",
              "    </tr>\n",
              "    <tr>\n",
              "      <th>25%</th>\n",
              "      <td>3116.737300</td>\n",
              "    </tr>\n",
              "    <tr>\n",
              "      <th>50%</th>\n",
              "      <td>13120.570000</td>\n",
              "    </tr>\n",
              "    <tr>\n",
              "      <th>75%</th>\n",
              "      <td>33892.780000</td>\n",
              "    </tr>\n",
              "    <tr>\n",
              "      <th>max</th>\n",
              "      <td>262585.700000</td>\n",
              "    </tr>\n",
              "  </tbody>\n",
              "</table>\n",
              "</div>\n",
              "    <div class=\"colab-df-buttons\">\n",
              "\n",
              "  <div class=\"colab-df-container\">\n",
              "    <button class=\"colab-df-convert\" onclick=\"convertToInteractive('df-8be0410c-1e51-445b-8bdf-9d3d85aa7a08')\"\n",
              "            title=\"Convert this dataframe to an interactive table.\"\n",
              "            style=\"display:none;\">\n",
              "\n",
              "  <svg xmlns=\"http://www.w3.org/2000/svg\" height=\"24px\" viewBox=\"0 -960 960 960\">\n",
              "    <path d=\"M120-120v-720h720v720H120Zm60-500h600v-160H180v160Zm220 220h160v-160H400v160Zm0 220h160v-160H400v160ZM180-400h160v-160H180v160Zm440 0h160v-160H620v160ZM180-180h160v-160H180v160Zm440 0h160v-160H620v160Z\"/>\n",
              "  </svg>\n",
              "    </button>\n",
              "\n",
              "  <style>\n",
              "    .colab-df-container {\n",
              "      display:flex;\n",
              "      gap: 12px;\n",
              "    }\n",
              "\n",
              "    .colab-df-convert {\n",
              "      background-color: #E8F0FE;\n",
              "      border: none;\n",
              "      border-radius: 50%;\n",
              "      cursor: pointer;\n",
              "      display: none;\n",
              "      fill: #1967D2;\n",
              "      height: 32px;\n",
              "      padding: 0 0 0 0;\n",
              "      width: 32px;\n",
              "    }\n",
              "\n",
              "    .colab-df-convert:hover {\n",
              "      background-color: #E2EBFA;\n",
              "      box-shadow: 0px 1px 2px rgba(60, 64, 67, 0.3), 0px 1px 3px 1px rgba(60, 64, 67, 0.15);\n",
              "      fill: #174EA6;\n",
              "    }\n",
              "\n",
              "    .colab-df-buttons div {\n",
              "      margin-bottom: 4px;\n",
              "    }\n",
              "\n",
              "    [theme=dark] .colab-df-convert {\n",
              "      background-color: #3B4455;\n",
              "      fill: #D2E3FC;\n",
              "    }\n",
              "\n",
              "    [theme=dark] .colab-df-convert:hover {\n",
              "      background-color: #434B5C;\n",
              "      box-shadow: 0px 1px 3px 1px rgba(0, 0, 0, 0.15);\n",
              "      filter: drop-shadow(0px 1px 2px rgba(0, 0, 0, 0.3));\n",
              "      fill: #FFFFFF;\n",
              "    }\n",
              "  </style>\n",
              "\n",
              "    <script>\n",
              "      const buttonEl =\n",
              "        document.querySelector('#df-8be0410c-1e51-445b-8bdf-9d3d85aa7a08 button.colab-df-convert');\n",
              "      buttonEl.style.display =\n",
              "        google.colab.kernel.accessAllowed ? 'block' : 'none';\n",
              "\n",
              "      async function convertToInteractive(key) {\n",
              "        const element = document.querySelector('#df-8be0410c-1e51-445b-8bdf-9d3d85aa7a08');\n",
              "        const dataTable =\n",
              "          await google.colab.kernel.invokeFunction('convertToInteractive',\n",
              "                                                    [key], {});\n",
              "        if (!dataTable) return;\n",
              "\n",
              "        const docLinkHtml = 'Like what you see? Visit the ' +\n",
              "          '<a target=\"_blank\" href=https://colab.research.google.com/notebooks/data_table.ipynb>data table notebook</a>'\n",
              "          + ' to learn more about interactive tables.';\n",
              "        element.innerHTML = '';\n",
              "        dataTable['output_type'] = 'display_data';\n",
              "        await google.colab.output.renderOutput(dataTable, element);\n",
              "        const docLink = document.createElement('div');\n",
              "        docLink.innerHTML = docLinkHtml;\n",
              "        element.appendChild(docLink);\n",
              "      }\n",
              "    </script>\n",
              "  </div>\n",
              "\n",
              "\n",
              "<div id=\"df-dc3b1830-6b69-4028-9efe-d1344a809803\">\n",
              "  <button class=\"colab-df-quickchart\" onclick=\"quickchart('df-dc3b1830-6b69-4028-9efe-d1344a809803')\"\n",
              "            title=\"Suggest charts.\"\n",
              "            style=\"display:none;\">\n",
              "\n",
              "<svg xmlns=\"http://www.w3.org/2000/svg\" height=\"24px\"viewBox=\"0 0 24 24\"\n",
              "     width=\"24px\">\n",
              "    <g>\n",
              "        <path d=\"M19 3H5c-1.1 0-2 .9-2 2v14c0 1.1.9 2 2 2h14c1.1 0 2-.9 2-2V5c0-1.1-.9-2-2-2zM9 17H7v-7h2v7zm4 0h-2V7h2v10zm4 0h-2v-4h2v4z\"/>\n",
              "    </g>\n",
              "</svg>\n",
              "  </button>\n",
              "\n",
              "<style>\n",
              "  .colab-df-quickchart {\n",
              "      --bg-color: #E8F0FE;\n",
              "      --fill-color: #1967D2;\n",
              "      --hover-bg-color: #E2EBFA;\n",
              "      --hover-fill-color: #174EA6;\n",
              "      --disabled-fill-color: #AAA;\n",
              "      --disabled-bg-color: #DDD;\n",
              "  }\n",
              "\n",
              "  [theme=dark] .colab-df-quickchart {\n",
              "      --bg-color: #3B4455;\n",
              "      --fill-color: #D2E3FC;\n",
              "      --hover-bg-color: #434B5C;\n",
              "      --hover-fill-color: #FFFFFF;\n",
              "      --disabled-bg-color: #3B4455;\n",
              "      --disabled-fill-color: #666;\n",
              "  }\n",
              "\n",
              "  .colab-df-quickchart {\n",
              "    background-color: var(--bg-color);\n",
              "    border: none;\n",
              "    border-radius: 50%;\n",
              "    cursor: pointer;\n",
              "    display: none;\n",
              "    fill: var(--fill-color);\n",
              "    height: 32px;\n",
              "    padding: 0;\n",
              "    width: 32px;\n",
              "  }\n",
              "\n",
              "  .colab-df-quickchart:hover {\n",
              "    background-color: var(--hover-bg-color);\n",
              "    box-shadow: 0 1px 2px rgba(60, 64, 67, 0.3), 0 1px 3px 1px rgba(60, 64, 67, 0.15);\n",
              "    fill: var(--button-hover-fill-color);\n",
              "  }\n",
              "\n",
              "  .colab-df-quickchart-complete:disabled,\n",
              "  .colab-df-quickchart-complete:disabled:hover {\n",
              "    background-color: var(--disabled-bg-color);\n",
              "    fill: var(--disabled-fill-color);\n",
              "    box-shadow: none;\n",
              "  }\n",
              "\n",
              "  .colab-df-spinner {\n",
              "    border: 2px solid var(--fill-color);\n",
              "    border-color: transparent;\n",
              "    border-bottom-color: var(--fill-color);\n",
              "    animation:\n",
              "      spin 1s steps(1) infinite;\n",
              "  }\n",
              "\n",
              "  @keyframes spin {\n",
              "    0% {\n",
              "      border-color: transparent;\n",
              "      border-bottom-color: var(--fill-color);\n",
              "      border-left-color: var(--fill-color);\n",
              "    }\n",
              "    20% {\n",
              "      border-color: transparent;\n",
              "      border-left-color: var(--fill-color);\n",
              "      border-top-color: var(--fill-color);\n",
              "    }\n",
              "    30% {\n",
              "      border-color: transparent;\n",
              "      border-left-color: var(--fill-color);\n",
              "      border-top-color: var(--fill-color);\n",
              "      border-right-color: var(--fill-color);\n",
              "    }\n",
              "    40% {\n",
              "      border-color: transparent;\n",
              "      border-right-color: var(--fill-color);\n",
              "      border-top-color: var(--fill-color);\n",
              "    }\n",
              "    60% {\n",
              "      border-color: transparent;\n",
              "      border-right-color: var(--fill-color);\n",
              "    }\n",
              "    80% {\n",
              "      border-color: transparent;\n",
              "      border-right-color: var(--fill-color);\n",
              "      border-bottom-color: var(--fill-color);\n",
              "    }\n",
              "    90% {\n",
              "      border-color: transparent;\n",
              "      border-bottom-color: var(--fill-color);\n",
              "    }\n",
              "  }\n",
              "</style>\n",
              "\n",
              "  <script>\n",
              "    async function quickchart(key) {\n",
              "      const quickchartButtonEl =\n",
              "        document.querySelector('#' + key + ' button');\n",
              "      quickchartButtonEl.disabled = true;  // To prevent multiple clicks.\n",
              "      quickchartButtonEl.classList.add('colab-df-spinner');\n",
              "      try {\n",
              "        const charts = await google.colab.kernel.invokeFunction(\n",
              "            'suggestCharts', [key], {});\n",
              "      } catch (error) {\n",
              "        console.error('Error during call to suggestCharts:', error);\n",
              "      }\n",
              "      quickchartButtonEl.classList.remove('colab-df-spinner');\n",
              "      quickchartButtonEl.classList.add('colab-df-quickchart-complete');\n",
              "    }\n",
              "    (() => {\n",
              "      let quickchartButtonEl =\n",
              "        document.querySelector('#df-dc3b1830-6b69-4028-9efe-d1344a809803 button');\n",
              "      quickchartButtonEl.style.display =\n",
              "        google.colab.kernel.accessAllowed ? 'block' : 'none';\n",
              "    })();\n",
              "  </script>\n",
              "</div>\n",
              "    </div>\n",
              "  </div>\n"
            ]
          },
          "metadata": {},
          "execution_count": 50
        }
      ]
    },
    {
      "cell_type": "code",
      "source": [
        "mean = df.groupby('Entity')['Primary energy consumption per capita (kWh/person)'].median()\n",
        "mean"
      ],
      "metadata": {
        "id": "ud5DMETOU8hS",
        "colab": {
          "base_uri": "https://localhost:8080/"
        },
        "outputId": "2546f707-0450-478c-9cf7-623496ccf3dd"
      },
      "execution_count": 51,
      "outputs": [
        {
          "output_type": "execute_result",
          "data": {
            "text/plain": [
              "Entity\n",
              "Afghanistan              802.61255\n",
              "Albania                11524.42800\n",
              "Algeria                12710.54100\n",
              "Angola                  3368.83570\n",
              "Antigua and Barbuda    32853.87500\n",
              "                          ...     \n",
              "Uzbekistan             18643.18800\n",
              "Vanuatu                 2484.06900\n",
              "Yemen                   3380.40530\n",
              "Zambia                  3012.99950\n",
              "Zimbabwe                3940.88620\n",
              "Name: Primary energy consumption per capita (kWh/person), Length: 176, dtype: float64"
            ]
          },
          "metadata": {},
          "execution_count": 51
        }
      ]
    },
    {
      "cell_type": "code",
      "source": [
        "median = df.groupby('Entity')['Primary energy consumption per capita (kWh/person)'].median()\n",
        "median"
      ],
      "metadata": {
        "id": "TVB8P3FDVwxM",
        "colab": {
          "base_uri": "https://localhost:8080/"
        },
        "outputId": "a894fb26-4fa7-4f02-e150-98b4155676af"
      },
      "execution_count": 52,
      "outputs": [
        {
          "output_type": "execute_result",
          "data": {
            "text/plain": [
              "Entity\n",
              "Afghanistan              802.61255\n",
              "Albania                11524.42800\n",
              "Algeria                12710.54100\n",
              "Angola                  3368.83570\n",
              "Antigua and Barbuda    32853.87500\n",
              "                          ...     \n",
              "Uzbekistan             18643.18800\n",
              "Vanuatu                 2484.06900\n",
              "Yemen                   3380.40530\n",
              "Zambia                  3012.99950\n",
              "Zimbabwe                3940.88620\n",
              "Name: Primary energy consumption per capita (kWh/person), Length: 176, dtype: float64"
            ]
          },
          "metadata": {},
          "execution_count": 52
        }
      ]
    },
    {
      "cell_type": "code",
      "source": [
        "mode = df.groupby('Entity')['Primary energy consumption per capita (kWh/person)'].agg(lambda x: pd.Series.mode(x)[0])\n",
        "mode"
      ],
      "metadata": {
        "id": "0xHCgiXCVyhs",
        "colab": {
          "base_uri": "https://localhost:8080/"
        },
        "outputId": "e7823454-c0a3-433d-c8a2-0ad4cdd76961"
      },
      "execution_count": 59,
      "outputs": [
        {
          "output_type": "execute_result",
          "data": {
            "text/plain": [
              "Entity\n",
              "Afghanistan              204.23125\n",
              "Albania                 8635.53200\n",
              "Algeria                 9746.52400\n",
              "Angola                  1979.25620\n",
              "Antigua and Barbuda    27785.22700\n",
              "                          ...     \n",
              "Uzbekistan             15860.60900\n",
              "Vanuatu                 1595.11000\n",
              "Yemen                   1092.00210\n",
              "Zambia                  2734.89100\n",
              "Zimbabwe                2680.13180\n",
              "Name: Primary energy consumption per capita (kWh/person), Length: 176, dtype: float64"
            ]
          },
          "metadata": {},
          "execution_count": 59
        }
      ]
    },
    {
      "cell_type": "code",
      "source": [
        "min = df.groupby('Entity')['Primary energy consumption per capita (kWh/person)'].min()\n",
        "min"
      ],
      "metadata": {
        "id": "HprClRfXVzxW",
        "colab": {
          "base_uri": "https://localhost:8080/"
        },
        "outputId": "f5d44203-b14d-46c7-ac79-bd7f94d52a36"
      },
      "execution_count": 54,
      "outputs": [
        {
          "output_type": "execute_result",
          "data": {
            "text/plain": [
              "Entity\n",
              "Afghanistan              204.23125\n",
              "Albania                 8635.53200\n",
              "Algeria                 9746.52400\n",
              "Angola                  1979.25620\n",
              "Antigua and Barbuda    27785.22700\n",
              "                          ...     \n",
              "Uzbekistan             15860.60900\n",
              "Vanuatu                 1595.11000\n",
              "Yemen                   1092.00210\n",
              "Zambia                  2734.89100\n",
              "Zimbabwe                2680.13180\n",
              "Name: Primary energy consumption per capita (kWh/person), Length: 176, dtype: float64"
            ]
          },
          "metadata": {},
          "execution_count": 54
        }
      ]
    },
    {
      "cell_type": "code",
      "source": [
        "max = df.groupby('Entity')['Primary energy consumption per capita (kWh/person)'].max()\n",
        "max"
      ],
      "metadata": {
        "id": "sA2gR7IAV1k3",
        "colab": {
          "base_uri": "https://localhost:8080/"
        },
        "outputId": "a0cfcb5a-017a-4684-ddff-62198e34ce9a"
      },
      "execution_count": 55,
      "outputs": [
        {
          "output_type": "execute_result",
          "data": {
            "text/plain": [
              "Entity\n",
              "Afghanistan             1436.1143\n",
              "Albania                14609.7010\n",
              "Algeria                16259.0530\n",
              "Angola                  4159.5776\n",
              "Antigua and Barbuda    34709.1800\n",
              "                          ...    \n",
              "Uzbekistan             24111.4410\n",
              "Vanuatu                 3346.0903\n",
              "Yemen                   4277.2236\n",
              "Zambia                  3494.5369\n",
              "Zimbabwe                4919.5225\n",
              "Name: Primary energy consumption per capita (kWh/person), Length: 176, dtype: float64"
            ]
          },
          "metadata": {},
          "execution_count": 55
        }
      ]
    },
    {
      "cell_type": "code",
      "source": [
        "std = df.groupby('Entity')['Primary energy consumption per capita (kWh/person)'].std()\n",
        "std"
      ],
      "metadata": {
        "id": "BWeXHW3Vovz4",
        "colab": {
          "base_uri": "https://localhost:8080/"
        },
        "outputId": "9c4e1c8c-4e00-48ce-dcb3-9b96089c38f3"
      },
      "execution_count": 56,
      "outputs": [
        {
          "output_type": "execute_result",
          "data": {
            "text/plain": [
              "Entity\n",
              "Afghanistan             396.179660\n",
              "Albania                1522.583604\n",
              "Algeria                2169.008659\n",
              "Angola                  727.888592\n",
              "Antigua and Barbuda    2004.595137\n",
              "                          ...     \n",
              "Uzbekistan             2600.013865\n",
              "Vanuatu                 470.142844\n",
              "Yemen                  1105.176842\n",
              "Zambia                  186.783125\n",
              "Zimbabwe                585.825233\n",
              "Name: Primary energy consumption per capita (kWh/person), Length: 176, dtype: float64"
            ]
          },
          "metadata": {},
          "execution_count": 56
        }
      ]
    },
    {
      "cell_type": "markdown",
      "source": [
        "Вычислите следующие квантили: 25%, 50% (медиана), 75% для числового признака вашего датасета. Затем найдите интерквартильный размах."
      ],
      "metadata": {
        "id": "dZEVd9QIVMyV"
      }
    },
    {
      "cell_type": "code",
      "source": [
        "q1 = df['Primary energy consumption per capita (kWh/person)'].quantile(0.25)\n",
        "q1"
      ],
      "metadata": {
        "id": "2UMcBq9dVbVE",
        "colab": {
          "base_uri": "https://localhost:8080/"
        },
        "outputId": "c8e74ab9-6d1c-41ac-b8c6-f09a4d63e3d0"
      },
      "execution_count": 61,
      "outputs": [
        {
          "output_type": "execute_result",
          "data": {
            "text/plain": [
              "3116.7373"
            ]
          },
          "metadata": {},
          "execution_count": 61
        }
      ]
    },
    {
      "cell_type": "code",
      "source": [
        "q2 = df['Primary energy consumption per capita (kWh/person)'].quantile(0.50)\n",
        "q2"
      ],
      "metadata": {
        "id": "8joJvKduWJsC",
        "colab": {
          "base_uri": "https://localhost:8080/"
        },
        "outputId": "f0156db6-1720-4354-fec7-c3d8794785e5"
      },
      "execution_count": 62,
      "outputs": [
        {
          "output_type": "execute_result",
          "data": {
            "text/plain": [
              "13120.57"
            ]
          },
          "metadata": {},
          "execution_count": 62
        }
      ]
    },
    {
      "cell_type": "code",
      "source": [
        "q3 = df['Primary energy consumption per capita (kWh/person)'].quantile(0.75)\n",
        "q3"
      ],
      "metadata": {
        "id": "pQTQqM3GWLOV",
        "colab": {
          "base_uri": "https://localhost:8080/"
        },
        "outputId": "b06fe2df-64a8-49b8-c68d-cbc81cdc999e"
      },
      "execution_count": 63,
      "outputs": [
        {
          "output_type": "execute_result",
          "data": {
            "text/plain": [
              "33892.78"
            ]
          },
          "metadata": {},
          "execution_count": 63
        }
      ]
    },
    {
      "cell_type": "markdown",
      "source": [],
      "metadata": {
        "id": "SAW8DnnK9kCL"
      }
    },
    {
      "cell_type": "code",
      "source": [
        "iqr = q3 - q1\n",
        "iqr"
      ],
      "metadata": {
        "id": "lAwZHIbfWMmH",
        "colab": {
          "base_uri": "https://localhost:8080/"
        },
        "outputId": "d4e3b063-8ed0-474f-bb58-72549d582c66"
      },
      "execution_count": 64,
      "outputs": [
        {
          "output_type": "execute_result",
          "data": {
            "text/plain": [
              "30776.042699999998"
            ]
          },
          "metadata": {},
          "execution_count": 64
        }
      ]
    },
    {
      "cell_type": "markdown",
      "source": [
        "Какие выводы можно сделать исходя из полученных статистических данных?"
      ],
      "metadata": {
        "id": "vm0-5sY4WX2I"
      }
    },
    {
      "cell_type": "markdown",
      "source": [
        "**Ответ здесь**\n",
        "\n",
        "```\n",
        "Example: видим, что среднее и отклонение различается между группами, следовательно...\n",
        "Сделать подобные выводы относительно других статистических характеристик\n",
        "```\n"
      ],
      "metadata": {
        "id": "OnO1hVGyWe8D"
      }
    },
    {
      "cell_type": "markdown",
      "source": [
        "##Основы визуализации"
      ],
      "metadata": {
        "id": "zDISZbQVWk6m"
      }
    },
    {
      "cell_type": "markdown",
      "source": [
        " Постройте гистограмму переменной (X) относительно категориального признака (Y) из своего датасета."
      ],
      "metadata": {
        "id": "aU8cakZvZBuj"
      }
    },
    {
      "cell_type": "code",
      "source": [
        "df = pd.read_csv(\"/content/dataset/global-data-on-sustainable-energy.csv\")\n",
        "\n",
        "df.groupby(\"Entity\")[\"Primary energy consumption per capita (kWh/person)\"].hist(alpha=0.6)\n",
        "\n",
        "# внешний вид\n",
        "plt.legend(bbox_to_anchor=(1, 0.5))\n",
        "plt.xlabel(\"Primary energy consumption per capita (kWh/person)\")\n",
        "plt.ylabel('Frequency')\n",
        "plt.title('Histogram of {} by {}'.format(\"Primary energy consumption per capita (kWh/person)\",\"Entity\"))  # Заголовок гистограммы\n",
        "\n",
        "# Отображение гистограммы\n",
        "plt.show()"
      ],
      "metadata": {
        "id": "9-KTIzdfZLmP",
        "colab": {
          "base_uri": "https://localhost:8080/",
          "height": 489
        },
        "outputId": "c32fa2e3-c3b6-46b2-97ff-acf475afcc48"
      },
      "execution_count": 65,
      "outputs": [
        {
          "output_type": "stream",
          "name": "stderr",
          "text": [
            "WARNING:matplotlib.legend:No artists with labels found to put in legend.  Note that artists whose label start with an underscore are ignored when legend() is called with no argument.\n"
          ]
        },
        {
          "output_type": "display_data",
          "data": {
            "text/plain": [
              "<Figure size 640x480 with 1 Axes>"
            ],
            "image/png": "[encoded data removed]"
          },
          "metadata": {}
        }
      ]
    },
    {
      "cell_type": "markdown",
      "source": [
        "Постройте boxplot любого признака из своего датасета.\n",
        "\n",
        "1) boxplot числовой переменной;\n",
        "\n",
        "2) boxplot числовой переменной относительно категориальный переменной;\n",
        "\n",
        "*p.s. Если у вас только один числовой признак, преобразуйте категориальный при помощи LabelEncoder (https://scikit-learn.org/stable/modules/generated/sklearn.preprocessing.LabelEncoder.html)*"
      ],
      "metadata": {
        "id": "zPsEO4m1ZWDy"
      }
    },
    {
      "cell_type": "code",
      "source": [
        "plt.figure(figsize=(4, 3))\n",
        "plt.boxplot(df[\"Primary energy consumption per capita (kWh/person)\"])\n",
        "plt.title('Boxplot широт')\n",
        "plt.xlabel('Широта')\n",
        "plt.show()"
      ],
      "metadata": {
        "id": "ccJLh1r-Zdne",
        "colab": {
          "base_uri": "https://localhost:8080/",
          "height": 333
        },
        "outputId": "85b4538f-c9b3-4652-a9f9-588b236a7b41"
      },
      "execution_count": null,
      "outputs": [
        {
          "output_type": "display_data",
          "data": {
            "text/plain": [
              "<Figure size 400x300 with 1 Axes>"
            ],
            "image/png": "[encoded data removed]"
          },
          "metadata": {}
        }
      ]
    },
    {
      "cell_type": "code",
      "source": [
        "df.boxplot(column = \"Primary energy consumption per capita (kWh/person)\", by = 'Entity')\n",
        "plt.show()"
      ],
      "metadata": {
        "id": "9ZRV3jjlq9NN",
        "colab": {
          "base_uri": "https://localhost:8080/",
          "height": 478
        },
        "outputId": "4d30a0b9-e85a-4ef4-a57f-cff068623ddc"
      },
      "execution_count": null,
      "outputs": [
        {
          "output_type": "display_data",
          "data": {
            "text/plain": [
              "<Figure size 640x480 with 1 Axes>"
            ],
            "image/png": "[encoded data removed]"
          },
          "metadata": {}
        }
      ]
    },
    {
      "cell_type": "markdown",
      "source": [
        "Постройте диаграмму рассеивания для числовых признаков вашего датасета.\n",
        "\n",
        "*p.s. Если у вас только один числовой признак, преобразуйте категориальный при помощи LabelEncoder (https://scikit-learn.org/stable/modules/generated/sklearn.preprocessing.LabelEncoder.html)*"
      ],
      "metadata": {
        "id": "mj8cdITDZh53"
      }
    },
    {
      "cell_type": "code",
      "source": [
        "plt.figure(figsize=(4, 3))\n",
        "sns.scatterplot(x='Entity', y='Primary energy consumption per capita (kWh/person)', data=df, color='purple')\n",
        "plt.title('Диаграмма рассеивания')\n",
        "plt.xlabel('Возраст')\n",
        "plt.ylabel('Рост')\n",
        "plt.show()"
      ],
      "metadata": {
        "id": "V2-ZoNUcZ_2l",
        "outputId": "93eb761a-da90-436d-e827-9a016e5930f0",
        "colab": {
          "base_uri": "https://localhost:8080/",
          "height": 333
        }
      },
      "execution_count": 72,
      "outputs": [
        {
          "output_type": "display_data",
          "data": {
            "text/plain": [
              "<Figure size 400x300 with 1 Axes>"
            ],
            "image/png": "[encoded data removed]"
          },
          "metadata": {}
        }
      ]
    },
    {
      "cell_type": "markdown",
      "source": [
        "Постройте матрицу корреляции для двух числовых признаков вашего датасета."
      ],
      "metadata": {
        "id": "S-jG4a5SaFXS"
      }
    },
    {
      "cell_type": "code",
      "source": [
        "corr_matrix = df[['Primary energy consumption per capita (kWh/person)','Energy intensity level of primary energy (MJ/$2017 PPP GDP)']].corr()\n",
        "sns.heatmap(corr_matrix, annot = True)"
      ],
      "metadata": {
        "id": "p04Ifq_ZaOHb",
        "outputId": "b006047e-de34-46a2-aab7-d60217acc51c",
        "colab": {
          "base_uri": "https://localhost:8080/",
          "height": 862
        }
      },
      "execution_count": 80,
      "outputs": [
        {
          "output_type": "execute_result",
          "data": {
            "text/plain": [
              "<Axes: >"
            ]
          },
          "metadata": {},
          "execution_count": 80
        },
        {
          "output_type": "display_data",
          "data": {
            "text/plain": [
              "<Figure size 640x480 with 2 Axes>"
            ],
            "image/png": "[encoded data removed]"
          },
          "metadata": {}
        }
      ]
    },
    {
      "cell_type": "markdown",
      "source": [
        "Какие выводы можно сделать на основе графиков и матрицы корреляции?"
      ],
      "metadata": {
        "id": "2MVHWXICaoJ4"
      }
    },
    {
      "cell_type": "markdown",
      "source": [
        "**Ответ здесь**"
      ],
      "metadata": {
        "id": "HFAFaiNzatLN"
      }
    },
    {
      "cell_type": "markdown",
      "source": [
        "##Задание для гениев*"
      ],
      "metadata": {
        "id": "K5HCSPTPbwfJ"
      }
    },
    {
      "cell_type": "markdown",
      "source": [
        "Реализовать следующие методы поиска выбросов:\n",
        "1. На основе среднего и отклонения\n",
        "2. Критерий Шовене\n",
        "3. С помощью квартилей\n",
        "4. Поиск выбросов по двум переменным\n",
        "\n",
        "[Посмотреть](http://course.omgtu.ru/wp-content/uploads/2021/04/3_%D0%92%D1%8B%D0%B1%D1%80%D0%BE%D1%81%D1%8B.pdf)\n",
        "\n",
        "P.S. в качестве возвразаемого значения методов может быть:\n",
        "1. очищенный датафрейм\n",
        "2. индексы выбросов ```df.series.index```"
      ],
      "metadata": {
        "id": "pil5bgt5b98A"
      }
    },
    {
      "cell_type": "code",
      "source": [
        "from statistics import median, mean\n",
        "import math\n",
        "class Trash:\n",
        "  def __init__(self, df):\n",
        "    self.df = df\n",
        "\n",
        "  def del_by_mean_and_std(self, column_name):\n",
        "      # 1) определить симметричность выборки, и на ее основе сформировать промежуток\n",
        "      # 2) подставить значение из столбца в соответствующий промежуток\n",
        "\n",
        "      median = df[column_name].median()\n",
        "      mean = df[column_name].mean()\n",
        "      std = df[column_name].std()\n",
        "      quantity = df[column_name].count() # получить общее кол-во\n",
        "      if median - mean <= 3 * math.sqrt(std**2/quantity):\n",
        "        coff = 3\n",
        "      else:\n",
        "        coff = 5\n",
        "\n",
        "      interval =  [mean - coff*std, mean + coff*std]\n",
        "      clean_dataframe = []\n",
        "\n",
        "      for i in self.df[column_name]:\n",
        "        if interval[0] <= i <= interval[1]:\n",
        "          clean_dataframe.append(i)\n",
        "      return ', '.join(str(value) for value in clean_dataframe)\n",
        "'''def shovene(self, column_name):\n",
        "\n",
        "  def qvart(self, column_name):\n",
        "\n",
        "  def two_variables(self, column_name):  '''\n",
        "\n"
      ],
      "metadata": {
        "id": "IXM6eoIvdCBs",
        "outputId": "d0c0d13a-6c1b-41b2-eac6-7260dec8c2c2",
        "colab": {
          "base_uri": "https://localhost:8080/",
          "height": 35
        }
      },
      "execution_count": 160,
      "outputs": [
        {
          "output_type": "execute_result",
          "data": {
            "text/plain": [
              "'def shovene(self, column_name):\\n\\n  def qvart(self, column_name):\\n\\n  def two_variables(self, column_name):  '"
            ],
            "application/vnd.google.colaboratory.intrinsic+json": {
              "type": "string"
            }
          },
          "metadata": {},
          "execution_count": 160
        }
      ]
    },
    {
      "cell_type": "code",
      "source": [
        "test = Trash(df)\n",
        "test.del_by_mean_and_std('Primary energy consumption per capita (kWh/person)')\n"
      ],
      "metadata": {
        "id": "g0Whz0IzBNTP",
        "outputId": "43cde1ee-67e8-463b-b611-37d11efa7924",
        "colab": {
          "base_uri": "https://localhost:8080/",
          "height": 122
        }
      },
      "execution_count": 161,
      "outputs": [
        {
          "output_type": "execute_result",
          "data": {
            "text/plain": [
              "'302.59482, 236.89185, 210.86215, 229.96822, 204.23125, 252.06912, 304.4209, 354.2799, 607.8335, 975.04816, 1182.892, 1436.1143, 1324.1211, 1060.7926, 868.5762, 970.0803, 862.79114, 829.31195, 924.25085, 802.61255, 702.888, 9029.4375, 8635.532, 9443.555, 10756.612, 11586.951, 11545.616, 10976.728, 9534.874, 10499.328, 11524.428, 12377.504, 10854.649, 10652.809, 13392.774, 11809.461, 11824.314, 13823.748, 12802.36, 14609.701, 11585.555, 11158.003, 9746.524, 9961.64, 10180.35, 10510.461, 10759.022, 11113.723, 11341.98, 11759.701, 12252.297, 12753.12, 12243.156, 12710.541, 13624.909, 14130.735, 15108.635, 15616.311, 15295.143, 15164.0, 15971.084, 16259.053, 14933.807, 1979.2562, 2079.732, 2143.528, 2298.9023, 2454.67, 2016.8517, 2453.2468, 2719.0603, 3072.024, 3368.8357, 3560.0942, 3594.49, 3615.5242, 3897.9126, 4135.0474, 4159.5776, 3661.5513, 3370.8962, 3366.3933, 3667.4238, 3527.16, 28457.223, 28025.29, 29660.344, 30824.252, 31622.059, 31734.295, 32290.607, 33375.836, 33637.074, 34709.18, 33104.54, 32616.084, 33159.37, 32853.875, 33313.0, 33830.76, 34089.41, 32233.041, 33026.227, 33027.516, 27785.227, 18849.81, 18210.12, 17275.256, 18326.521, 19261.457, 20232.844, 21038.723, 21708.37, 21780.38, 20954.271, 21507.703, 21894.867, 22494.715, 23152.588, 22881.006, 23046.873, 22726.455, 22503.818, 22163.16, 20725.168, 19314.066, 9270.454, 9219.866, 8911.608, 9866.072, 10294.192, 11997.367, 12061.231, 13633.888, 13250.285, 11915.396, 13351.512, 14139.787, 15057.879, 14838.981, 15185.13, 14124.947, 14289.046, 15302.439, 15133.982, 16179.096, 17086.047, 49568.207, 50392.613, 51469.32, 56750.387, 58649.285, 62704.926, 61848.48, 62959.137, 58413.715, 57522.297, 53389.605, 42076.207, 52292.04, 50264.645, 50628.816, 51778.613, 50017.652, 51509.81, 49515.113, 51107.844, 43496.94, 68632.96, 68338.28, 68892.78, 69082.79, 70486.32, 69917.164, 71863.76, 72304.695, 72089.34, 69689.84, 68523.875, 69714.19, 67583.03, 67307.04, 66744.195, 67234.93, 66407.09, 65146.316, 65072.668, 66263.54, 61826.21, 48863.28, 50421.105, 50254.64, 50523.203, 51139.312, 51714.72, 50921.684, 49669.195, 50475.008, 48765.184, 50240.96, 47200.484, 49174.594, 48493.574, 46196.465, 45686.785, 46698.785, 47423.047, 46186.543, 48314.258, 45028.27, 16123.289, 15361.87, 15003.191, 16075.374, 17986.783, 19273.648, 18724.746, 17015.564, 16933.111, 14348.922, 13958.922, 15663.72, 15936.576, 16085.35, 16145.47, 17438.53, 17089.488, 16612.637, 16897.24, 17546.781, 17803.629, 50650.19, 50899.527, 52098.81, 35908.117, 39267.47, 37244.637, 42663.53, 48444.41, 46670.273, 34584.957, 35531.06, 30982.486, 35422.555, 32656.572, 31772.066, 30096.48, 31247.096, 36977.28, 39876.79, 39636.066, 33301.77, 1053.6212, 1181.6239, 1163.1385, 1208.1465, 1261.467, 1345.851, 1438.764, 1458.1193, 1528.589, 1660.9723, 1685.9304, 1806.3944, 1938.1482, 1991.1696, 2040.6984, 2440.7686, 2415.728, 2494.115, 2630.0278, 2916.3176, 2730.078, 26318.064, 26262.209, 26331.5, 26508.63, 26606.236, 26715.06, 26681.957, 25360.926, 29773.459, 27941.865, 26839.543, 28088.297, 26331.783, 26676.488, 23147.074, 24569.877, 25016.707, 23670.777, 25095.537, 25172.027, 21577.828, 24868.184, 24306.926, 25309.941, 25292.014, 28508.88, 28600.459, 30598.045, 29999.406, 30513.402, 28957.873, 31470.04, 30981.086, 33557.434, 30421.854, 30426.229, 27527.16, 28104.533, 28623.031, 31689.998, 31923.436, 29768.562, 72420.41, 71475.5, 70828.99, 73221.56, 73126.234, 71894.96, 71647.29, 71662.34, 72317.91, 66274.0, 70300.14, 65134.08, 62090.016, 63218.38, 58234.56, 58448.152, 62694.066, 62897.13, 62384.855, 64152.26, 57433.73, 10038.552, 10707.64, 10042.477, 9553.475, 8929.1455, 9279.945, 10366.804, 9503.804, 8935.545, 9060.757, 10492.445, 8946.38, 9087.132, 9683.304, 9421.46, 10197.744, 10002.819, 10896.961, 9546.048, 9883.737, 7226.4336, 980.96387, 1083.3461, 1204.5461, 1357.0039, 1388.154, 1262.3934, 1672.0192, 1918.3821, 1904.8895, 2054.215, 2287.7693, 2071.1877, 1909.2642, 1889.7343, 1940.2653, 2083.4993, 2467.0088, 2540.225, 2736.8003, 2416.162, 2518.621, 39297.88, 39604.938, 41429.88, 41114.773, 42390.04, 44480.98, 50145.137, 58163.746, 55556.035, 43647.02, 51318.156, 33119.836, 35803.332, 35994.32, 46727.742, 39425.17, 50238.902, 49395.46, 50863.38, 50639.293, 46161.586, 8469.052, 9100.751, 9810.103, 10658.221, 10014.694, 11119.834, 17746.78, 21903.543, 22370.271, 22935.088, 24284.154, 23369.613, 22460.117, 24615.076, 23328.47, 24203.82, 24692.543, 24327.346, 23138.41, 27251.602, 26593.059, 15474.596, 15337.629, 15402.803, 13485.733, 14065.254, 13151.445, 13561.985, 13117.112, 15073.022, 18430.324, 20074.406, 19803.19, 19624.715, 20242.201, 19855.676, 20149.87, 20852.678, 20939.965, 21542.352, 20694.338, 19464.836, 8308.661, 8561.099, 8817.649, 8856.523, 8571.5, 8948.104, 9380.948, 9445.073, 9627.653, 8820.0205, 8901.267, 9151.255, 8872.199, 8641.081, 8513.395, 10171.935, 10964.355, 9879.757, 9597.184, 9467.984, 8843.107, 13400.32, 12893.828, 13021.791, 13111.923, 13593.7, 13792.465, 14020.683, 14770.351, 15255.087, 15004.24, 16220.931, 16629.84, 16963.494, 17221.44, 17519.043, 17140.15, 16591.764, 16608.686, 16539.11, 16681.945, 15921.327, 26859.672, 27980.56, 27344.377, 28474.164, 27716.521, 30223.08, 31003.193, 30154.662, 30008.596, 26486.121, 27862.668, 29793.07, 28532.125, 26659.102, 28695.912, 30739.168, 29411.8, 30376.139, 30743.955, 29996.027, 27993.87, 358.42392, 386.41492, 392.5639, 421.1035, 367.58755, 378.25854, 361.50507, 496.80994, 526.8172, 480.64005, 509.41, 563.3461, 644.37476, 749.67834, 677.6461, 836.0298, 780.0771, 878.57794, 950.3871, 946.95734, 878.9815, 261.95847, 217.60869, 200.19261, 157.22882, 174.65433, 145.98683, 163.21136, 246.2004, 155.42688, 149.19579, 199.67647, 226.62114, 205.98769, 216.88063, 196.12764, 193.7544, 208.42976, 246.89967, 290.7686, 309.34055, 289.06625, 739.4555, 769.4097, 754.1447, 803.81635, 813.56445, 909.82135, 967.99585, 1116.1547, 1152.201, 1399.9335, 1591.3198, 1623.9176, 1783.7217, 1866.1189, 2031.7474, 2299.249, 2828.744, 2950.2996, 3674.9282, 4069.4607, 3918.6375, 1575.576, 1529.8099, 1467.4718, 1529.6643, 1551.4, 1456.8976, 1606.5828, 1647.3816, 1625.477, 1695.7526, 1886.1508, 1931.2103, 1873.3829, 1600.2953, 1941.542, 1888.3931, 1785.7306, 1763.4426, 1746.7549, 1720.2494, 1758.1206, 118875.336, 115218.68, 117915.38, 117365.12, 118078.05, 117744.77, 115946.31, 119158.6, 116479.15, 110665.805, 110485.93, 113449.32, 112586.7, 114051.086, 113198.414, 112891.76, 110180.79, 110509.586, 110059.28, 107980.76, 100497.28, 52485.707, 51350.027, 51466.68, 50467.51, 46195.98, 46092.508, 45344.523, 52593.047, 52451.508, 47302.73, 46226.355, 47423.246, 42757.977, 41230.707, 40977.293, 42380.68, 40911.793, 46465.98, 42507.164, 50531.71, 41981.38, 384.72043, 386.3453, 373.5856, 342.82562, 359.33325, 352.1099, 358.04587, 349.30215, 276.59943, 260.59473, 260.0182, 279.48138, 282.5135, 206.79347, 238.23833, 297.00418, 307.3053, 301.66687, 302.45892, 299.18008, 280.73853, 124.966064, 116.015, 110.641914, 105.11012, 105.9355, 109.55552, 107.3414, 114.514046, 116.01666, 122.113625, 130.90942, 180.9343, 302.57126, 302.8611, 303.73856, 298.34583, 286.59064, 446.25546, 457.11847, 458.18085, 372.5109, 20023.135, 20184.58, 20441.285, 20334.662, 21494.553, 22090.879, 22631.893, 22387.78, 22165.26, 21051.678, 21403.44, 22459.62, 23224.074, 23629.986, 23154.375, 23180.021, 23993.93, 24517.238, 25039.64, 24894.514, 22925.926, 9334.936, 9797.812, 10602.087, 12273.32, 14272.745, 16114.158, 17552.816, 18955.008, 19560.7, 20281.068, 21551.547, 23090.885, 23873.234, 24600.36, 25072.023, 25209.49, 25164.803, 25987.611, 27109.42, 28277.445, 29133.936, 8011.8125, 7953.855, 7834.471, 7863.652, 8152.3345, 7917.907, 9024.093, 9058.002, 9322.767, 9111.861, 9474.296, 9794.911, 10308.172, 10490.081, 10938.481, 10259.04, 11435.303, 11368.834, 11332.247, 11221.787, 10064.389, 816.7021, 835.32465, 823.61163, 1032.1368, 1111.6262, 1046.9846, 1194.3715, 773.59, 772.8585, 923.4804, 1074.1965, 944.7761, 961.3801, 1122.8319, 981.591, 1036.3783, 1189.0542, 1492.4838, 1593.2856, 1685.7296, 1578.0629, 1227.4918, 1451.1962, 1311.9222, 1459.1665, 1496.1375, 1950.9672, 2240.8157, 2657.6838, 2926.5042, 3411.898, 4460.019, 5186.757, 5174.5054, 6385.8984, 5931.7676, 5841.056, 5449.973, 3985.2053, 3605.2744, 2873.82, 2379.556, 10699.309, 10693.142, 10944.455, 10991.341, 11161.785, 11431.702, 11759.994, 12253.692, 12241.504, 11747.936, 11786.667, 11703.091, 11673.354, 11618.479, 11726.931, 12110.349, 12301.996, 12649.783, 12802.764, 13012.45, 11486.324, 21227.025, 22525.262, 22668.963, 23832.379, 24877.861, 24671.021, 24436.512, 24617.822, 24549.996, 24300.623, 24781.908, 21703.076, 20222.29, 22296.646, 22411.172, 21392.176, 22428.08, 22608.02, 23593.492, 23200.729, 22304.447, 9883.993, 9075.244, 9158.403, 9271.938, 9365.984, 9199.146, 8954.739, 9036.614, 10330.99, 10402.473, 11812.895, 10603.101, 11529.463, 11073.984, 11257.336, 11280.011, 8800.3, 9358.279, 9819.157, 9606.213, 9007.181, 31912.982, 31725.172, 30732.92, 32076.912, 30655.473, 33741.973, 32604.191, 32579.771, 32822.43, 31506.953, 30146.273, 29451.955, 27326.793, 24232.332, 24039.48, 24580.83, 26494.055, 26971.416, 26633.77, 26442.418, 22852.852, 46362.195, 47434.9, 47543.316, 50209.617, 51439.855, 50547.258, 51379.383, 50659.105, 49488.312, 47287.844, 49083.73, 47823.707, 47515.48, 46623.125, 45633.582, 44728.676, 44110.195, 46583.094, 46420.684, 45355.285, 42025.31, 44286.535, 44250.59, 44017.223, 47297.21, 44621.56, 41866.43, 46091.766, 43548.508, 41183.277, 38827.246, 41063.633, 38406.094, 35563.973, 36936.71, 35394.48, 34312.848, 34666.89, 34656.133, 34042.258, 33139.277, 29380.422, 4762.17, 4599.132, 4474.387, 4541.9604, 4353.0415, 4054.5566, 3716.954, 3787.3547, 4150.3564, 3531.1523, 3942.1558, 2921.8823, 3784.8132, 3836.7073, 4183.972, 3626.9648, 3409.7095, 3036.1372, 3133.4805, 2848.7866, 2701.7908, 7741.9917, 8312.158, 7820.6606, 8702.423, 10289.641, 9846.587, 9808.0205, 11844.8545, 10663.4375, 10826.458, 11327.723, 11478.59, 11020.953, 11020.252, 11281.383, 11610.774, 12128.221, 11274.687, 11557.899, 11049.87, 10056.246, 10094.044, 9667.4, 10064.789, 9104.642, 8357.8955, 9065.088, 8931.601, 9066.198, 8900.079, 8679.013, 8981.36, 8723.768, 9560.256, 9002.167, 8537.962, 9354.642, 9835.123, 9591.366, 10487.733, 11098.332, 9496.668, 8246.84, 8211.651, 7965.1455, 8014.88, 8426.991, 8767.223, 9114.504, 9420.017, 9883.912, 9482.964, 10353.473, 10805.037, 11233.192, 11416.987, 11816.219, 11610.723, 11399.546, 11658.197, 12100.159, 12160.402, 10374.727, 7965.8477, 8143.846, 8202.89, 8503.993, 8798.149, 8844.943, 9136.145, 9542.583, 9921.167, 10077.901, 10258.876, 10516.576, 10688.419, 10368.022, 9999.618, 9943.54, 10278.024, 10471.6455, 10286.719, 9919.544, 9153.989, 4934.59, 5098.644, 5202.2905, 5536.21, 5513.2593, 5701.853, 6029.882, 6277.061, 6136.0747, 5893.16, 6082.846, 6068.4243, 6096.5063, 5903.0894, 6015.019, 6200.172, 6231.5947, 6173.1143, 6645.676, 7271.5205, 6715.608, 4751.2705, 2574.472, 37471.24, 38771.44, 7523.655, 26154.957, 30517.992, 32212.723, 30431.822, 30738.887, 28152.885, 28943.424, 26990.076, 26720.799, 24158.016, 20745.453, 19728.445, 21365.682, 18711.834, 17644.693, 11328.123, 1086.2354, 1156.5769, 1019.1684, 1172.7673, 1226.452, 1197.5035, 809.80237, 818.4819, 569.351, 670.50433, 654.88983, 655.3532, 686.76117, 691.8338, 716.5409, 707.84283, 715.03436, 778.28644, 876.1487, 936.4785, 881.5875, 39722.04, 41673.484, 41766.36, 45834.83, 47047.777, 47588.28, 47286.48, 55017.598, 50750.434, 43997.6, 54935.6, 54965.695, 55555.875, 58773.523, 56413.82, 52196.047, 53774.246, 59568.55, 58899.945, 47295.336, 44218.28, 6083.903, 6071.866, 6199.8135, 5659.059, 5462.625, 5620.2163, 5687.314, 5892.16, 5664.233, 5503.006, 5146.958, 5236.0625, 5162.853, 5053.2617, 5096.1387, 5016.5044, 5267.826, 5553.8486, 5823.5767, 5780.252, 5614.8906, 287.99124, 304.5467, 303.84665, 319.22073, 331.65744, 370.1885, 394.91357, 424.85315, 432.32028, 434.64044, 468.26212, 514.24506, 557.1035, 632.63324, 697.6292, 715.42474, 807.2398, 794.97723, 823.5834, 921.99115, 860.0999, 9308.956, 9574.995, 8027.728, 8717.398, 11433.929, 9695.102, 10524.99, 10062.741, 7890.7285, 6803.4795, 9167.494, 7085.0757, 7121.2935, 7502.866, 7886.4253, 8231.743, 8094.5083, 8787.309, 9316.589, 9417.632, 9030.606, 69377.0, 70719.58, 70908.92, 75758.37, 75218.67, 68155.33, 72824.555, 72265.94, 69352.664, 63925.77, 69228.28, 64942.777, 62886.45, 62843.996, 60391.24, 60022.977, 60795.297, 59405.816, 60528.164, 59219.418, 56636.78, 52966.594, 53298.86, 52433.27, 52657.883, 52754.13, 52097.117, 51332.477, 50095.92, 49932.984, 46864.53, 48006.33, 45914.77, 45681.15, 45921.207, 43808.914, 43929.527, 43053.95, 42633.387, 43334.203, 42326.785, 38063.406, 13692.394, 9016.453, 9478.856, 9233.193, 8742.1875, 8665.52, 9015.141, 8974.716, 8646.734, 8547.841, 8182.456, 9214.65, 9102.298, 11006.094, 10740.267, 10845.483, 10108.493, 9740.699, 10052.3955, 8795.324, 7427.6616, 8367.068, 880.39734, 931.84937, 901.8342, 876.4806, 898.55994, 881.66327, 929.5181, 934.9129, 941.5169, 980.54083, 1036.8582, 1056.7408, 998.79663, 964.19214, 1034.7433, 1028.8588, 1008.46924, 998.2301, 978.7463, 972.6679, 905.3456, 9423.704, 8959.572, 10776.443, 9694.849, 10085.432, 11553.322, 10517.187, 13246.12, 13342.63, 13652.776, 14789.647, 13820.907, 14376.836, 16267.887, 17044.346, 18088.293, 19119.283, 19005.781, 19383.402, 19659.346, 18696.85, 48903.7, 49841.387, 49257.79, 49300.902, 49342.406, 48793.566, 50043.03, 47958.13, 48445.984, 45436.277, 47305.82, 45571.504, 46132.67, 47361.547, 45327.562, 46066.887, 46675.777, 47112.9, 45781.406, 44467.746, 41377.68, 2116.77, 2073.1177, 1846.1882, 1645.2809, 1892.3693, 1893.7173, 1794.2775, 1649.7666, 1899.8279, 2130.4485, 2141.837, 2627.7834, 2631.042, 2698.5383, 2673.1282, 2847.0212, 2814.9978, 2757.9565, 3112.291, 3135.595, 3484.1567, 33796.73, 33961.258, 33917.586, 35850.453, 35828.086, 35956.984, 37034.242, 37808.297, 37168.062, 35855.25, 34298.055, 33738.633, 31860.057, 30079.553, 28344.934, 28845.504, 28556.062, 30131.885, 30475.123, 29966.309, 26343.523, 8030.945, 8319.619, 8525.037, 8976.218, 8654.664, 9039.732, 9290.929, 9798.676, 10349.056, 9980.4795, 10297.715, 10196.201, 10296.617, 11516.319, 9650.67, 9958.878, 10175.044, 10974.274, 10724.042, 10655.754, 8918.377, 4058.544, 4133.946, 4082.936, 4382.797, 4045.296, 4087.143, 4242.915, 4454.024, 4052.9338, 4154.522, 4004.3474, 4004.556, 4204.253, 4409.617, 4562.1045, 5002.62, 5357.698, 5708.0923, 5774.4165, 5851.735, 5734.4775, 933.22345, 1009.3095, 1035.3723, 983.6432, 1041.267, 1031.7405, 1027.6909, 1066.2617, 1051.0521, 1076.7029, 1202.3784, 1194.9143, 1131.1559, 982.06683, 990.09143, 1171.2323, 1285.7498, 1261.2085, 1122.0997, 1201.7898, 1356.6588, 809.8549, 807.33746, 806.6247, 916.40906, 926.11926, 915.8147, 913.9182, 946.6117, 898.46826, 907.2298, 907.236, 896.62317, 890.10126, 886.97314, 907.5775, 914.8769, 928.79553, 733.6317, 719.8099, 703.1273, 656.3425, 9131.178, 8915.736, 9012.365, 9282.544, 9064.288, 8189.165, 7341.6763, 9106.513, 8685.301, 8978.9375, 9713.2295, 10153.407, 11516.412, 11227.718, 11144.22, 11248.948, 12634.438, 12459.088, 12371.177, 14184.612, 13816.492, 836.0804, 893.391, 961.6241, 874.4462, 990.22144, 1015.81964, 1022.4895, 1084.6621, 1075.1736, 1005.77826, 922.15204, 958.5984, 1037.8396, 1075.7772, 1142.4454, 1284.612, 1314.9376, 1287.2642, 1325.5319, 1184.3462, 977.08136, 3657.3855, 3886.6245, 3824.1345, 4087.4094, 4235.931, 4243.7075, 3989.0889, 4827.8486, 4677.777, 4338.667, 4439.492, 4406.6816, 4707.272, 4629.147, 4979.008, 5439.805, 5242.269, 5456.1885, 5896.7534, 5640.568, 5048.4497, 27524.092, 28261.502, 27680.426, 28106.879, 28622.2, 30582.84, 30034.668, 29686.33, 29320.72, 27245.459, 27819.338, 27072.97, 25308.668, 24057.617, 24145.828, 25501.146, 26030.773, 27509.97, 27740.646, 28131.205, 27724.254, 118057.81, 117792.88, 121304.664, 121068.53, 122384.42, 120874.47, 129510.24, 3518.6821, 3469.8364, 3519.7168, 3583.3396, 3826.2053, 3987.0566, 4136.6675, 4423.9287, 4616.339, 4892.3794, 5033.775, 5236.977, 5447.3413, 5555.5483, 5857.2837, 5988.8335, 6184.2495, 6346.3545, 6633.665, 6731.805, 6317.096, 5435.4355, 5740.4346, 5815.386, 6224.9414, 6087.6787, 6186.4365, 6211.292, 6579.23, 6569.101, 6662.824, 7121.819, 7429.8623, 7574.457, 7225.1826, 7235.558, 7266.8945, 7212.07, 7388.523, 8026.891, 8474.4795, 7771.042, 13100.986, 14176.429, 13048.608, 11233.329, 11703.38, 10743.436, 10367.605, 10543.257, 11838.88, 11209.113, 12167.795, 12087.509, 12609.8, 13361.737, 12829.746, 12457.778, 13748.048, 15090.169, 14896.87, 15430.376, 12996.267, 45993.887, 47836.67, 46569.605, 44674.87, 44733.043, 45659.78, 45880.33, 45259.535, 44106.4, 39248.785, 39407.06, 37465.4, 36688.957, 35956.3, 35600.855, 37274.28, 38517.676, 38225.68, 38573.797, 38270.875, 35630.062, 37170.773, 36424.156, 36462.848, 36880.75, 36929.9, 36458.637, 36028.926, 36725.434, 37139.566, 35460.906, 36229.89, 36258.53, 37267.684, 34654.492, 33226.094, 34426.47, 34475.207, 34537.31, 34493.293, 35085.457, 32593.809, 36851.285, 36802.125, 36481.184, 37436.27, 37979.51, 37805.06, 37481.96, 36549.08, 35659.477, 33102.94, 34046.293, 33284.145, 32295.604, 30816.12, 29214.832, 30129.14, 30305.607, 30716.617, 30957.242, 30464.062, 27763.8, 16542.139, 16699.781, 16544.623, 17159.158, 16704.465, 17141.955, 19489.295, 19765.36, 16746.21, 13112.701, 11996.119, 12652.353, 11797.367, 12772.726, 12533.961, 12881.866, 13296.951, 11942.507, 12335.036, 15387.241, 12098.731, 49229.383, 48662.785, 48643.8, 48392.92, 48887.336, 49007.164, 48855.34, 48292.938, 47418.41, 43254.305, 46114.938, 43712.98, 43428.844, 43171.46, 42146.168, 41622.67, 41172.285, 41783.035, 41694.16, 40868.688, 38029.27, 13120.57, 12340.564, 12667.007, 13522.985, 14329.478, 15157.3, 14647.871, 13221.179, 12430.374, 12645.595, 12875.821, 13144.025, 13750.912, 12796.636, 11669.372, 11497.137, 11675.889, 11783.324, 11233.428, 11258.242, 9838.043, 24267.602, 27235.379, 27638.352, 30142.02, 31813.24, 32415.734, 34517.496, 37807.3, 39400.227, 34913.5, 36949.332, 41342.99, 42868.23, 42457.91, 43947.973, 36005.64, 39906.78, 42406.99, 43320.58, 43404.29, 39590.598, 1478.989, 1460.3776, 1429.8123, 1321.4634, 1380.108, 1454.5236, 1549.1115, 1513.085, 1449.5537, 1537.1414, 1622.7236, 1633.5077, 1575.0422, 1620.4467, 1655.0222, 1911.9027, 1966.5875, 1939.6578, 2047.2719, 1946.3412, 1902.1184, 1636.9808, 1370.5415, 1968.1482, 2004.7972, 2104.4172, 2702.9736, 2949.2144, 2641.9128, 2903.1602, 2485.87, 2429.8928, 2205.633, 2144.771, 2137.1572, 2120.318, 2253.5444, 2381.1416, 2644.3162, 2619.8926, 2592.4326, 2417.654, 109536.43, 107600.5, 110790.81, 128997.93, 124446.914, 127302.03, 124978.22, 128367.73, 122214.484, 116451.43, 114804.984, 114809.12, 109505.66, 109312.47, 106945.27, 94612.555, 91131.37, 14177.031, 13327.09, 11277.386, 11796.489, 11902.486, 11085.9, 11181.869, 12160.274, 11500.209, 11463.955, 10836.261, 12183.774, 13588.381, 12564.967, 12576.968, 11097.164, 11131.658, 11335.21, 11778.976, 10582.124, 10439.837, 15779.984, 17236.137, 17635.336, 17660.322, 20126.611, 21027.428, 20211.02, 21105.2, 21504.193, 20609.242, 23635.057, 21346.463, 22381.162, 21775.469, 20261.896, 20957.162, 22548.604, 25054.545, 22506.594, 23394.7, 21535.734, 14027.069, 14693.647, 14617.907, 14599.101, 14306.836, 13477.188, 12290.246, 10675.19, 13562.222, 16556.137, 15851.824, 15852.878, 17291.496, 15720.306, 14662.743, 15864.785, 16684.846, 18256.084, 17677.684, 18447.385, 18341.434, 1235.5165, 1251.1484, 1287.3501, 1312.4877, 1322.3566, 1564.1565, 1662.7148, 2002.3392, 1805.3613, 2048.8052, 2175.0613, 1932.6333, 2021.0361, 2043.1262, 2074.0635, 2002.84, 2142.4592, 2253.6167, 2182.0183, 2188.859, 2092.5305, 653.1203, 676.3977, 650.0258, 706.2132, 756.93256, 846.99274, 820.09924, 728.0793, 619.2872, 547.7462, 837.7503, 896.8281, 960.11163, 830.95197, 1071.9282, 1054.1843, 1187.8451, 1007.256, 1122.4692, 1100.8312, 1030.0463, 41310.375, 40686.832, 40937.99, 39334.31, 39269.44, 39565.17, 35456.92, 34507.516, 35070.414, 39304.934, 40607.305, 27959.967, 36727.043, 38740.535, 37137.06, 29102.475, 28077.625, 31206.035, 31662.736, 32421.873, 28032.594, 21678.389, 25635.498, 27703.938, 29436.242, 30054.08, 27817.504, 26969.346, 29979.059, 30124.53, 28308.246, 20948.318, 22097.504, 22394.059, 20938.49, 20422.297, 21569.006, 22207.523, 23635.178, 24616.006, 24873.117, 24924.742, 85402.43, 90348.625, 97735.35, 101260.22, 113106.17, 113049.23, 109285.4, 104455.21, 101834.57, 95591.98, 98832.99, 94211.61, 90375.62, 84137.46, 79619.14, 75576.625, 72784.555, 74384.77, 76376.74, 76273.7, 64241.79, 591.2006, 563.0391, 422.2325, 524.7671, 554.3044, 520.9991, 498.27472, 516.442, 531.468, 455.50735, 469.25098, 511.36972, 587.69507, 600.2899, 635.02496, 676.7416, 691.3689, 617.7024, 579.6003, 678.70404, 447.50406, 606.25275, 581.4494, 560.5774, 574.14386, 596.341, 564.4167, 566.84424, 548.9341, 607.96954, 549.8785, 640.52893, 626.8056, 611.7529, 604.7202, 605.3154, 567.38477, 581.6119, 583.40607, 542.3849, 537.8198, 503.25735, 26639.928, 26582.326, 27303.566, 28867.148, 30459.574, 32213.139, 31831.441, 33221.49, 33712.133, 32003.473, 32487.746, 32524.594, 35010.12, 36062.543, 35862.223, 35878.008, 37199.58, 37162.887, 37333.03, 37823.5, 35997.363, 10129.736, 8351.583, 9816.173, 8392.205, 10799.323, 9621.824, 11906.826, 11930.126, 12517.4, 12835.753, 12524.812, 13070.632, 16088.853, 16413.824, 21157.406, 15149.077, 15410.746, 15375.788, 17020.91, 18567.896, 17308.588, 391.75388, 384.58038, 360.90942, 350.71347, 353.03635, 378.31973, 429.55984, 489.2138, 565.22516, 691.58307, 757.35394, 804.06683, 830.3994, 830.25073, 899.23505, 952.77563, 1172.1898, 1234.1934, 1243.7677, 1231.7151, 1142.8834, 46378.05, 50713.89, 49170.387, 56833.484, 59390.21, 50493.625, 51478.543, 55957.79, 57768.11, 61248.996, 72549.08, 68190.57, 64067.15, 59756.48, 59933.56, 64130.957, 69591.945, 77316.09, 78729.375, 80081.51, 72065.46, 1872.364, 1906.994, 2004.1155, 2054.2488, 2161.6206, 2206.7163, 2100.9646, 2318.157, 2781.5295, 2688.0107, 2594.6553, 2710.173, 2906.24, 2568.1191, 2994.4866, 2955.3347, 2687.6682, 3923.3762, 4074.3657, 4149.229, 3884.7751, 13215.6, 13385.311, 13056.474, 13249.851, 13567.276, 14451.097, 15004.636, 15502.124, 15889.464, 15279.018, 16415.438, 16788.395, 16868.873, 17104.646, 17609.402, 18247.52, 18958.602, 20786.77, 21929.627, 22800.158, 19245.18, 17300.662, 16898.29, 17044.275, 16996.574, 17731.264, 19153.719, 19171.469, 19098.814, 19633.797, 19065.637, 18870.824, 19447.846, 19349.783, 19108.69, 18757.031, 18335.252, 18538.975, 18689.648, 18269.648, 17903.295, 16382.68, 17691.607, 17502.184, 18501.777, 17411.361, 16947.145, 17428.03, 18611.67, 19353.18, 18919.375, 18920.904, 18202.299, 18659.32, 19704.566, 20521.99, 19699.537, 19182.596, 19692.092, 21043.662, 22486.172, 24279.39, 20376.916, 21851.393, 24712.115, 21325.205, 26631.988, 21941.479, 21276.305, 22880.111, 20434.42, 21034.895, 21028.148, 19660.412, 21852.676, 20460.55, 17942.342, 4113.667, 4386.623, 4439.7236, 4397.996, 4946.6387, 5301.4736, 5340.5317, 5226.2114, 5694.0356, 5486.076, 6005.15, 6222.626, 6249.124, 6330.0835, 6336.756, 6368.3936, 6361.196, 6580.7236, 6730.607, 7267.464, 6551.4155, 1646.6608, 2058.794, 2031.7814, 2005.1836, 2047.423, 2189.5408, 2325.4858, 2517.8892, 2311.3452, 2432.587, 2355.5942, 2590.4597, 2700.6165, 2775.2776, 2987.1777, 3077.791, 3067.1821, 2985.2324, 2383.0244, 2446.9106, 2248.653, 1055.1344, 963.84076, 1107.3801, 1236.4875, 1285.3595, 1642.7948, 1538.9808, 1648.7915, 1504.8369, 1377.901, 1386.8824, 1505.1958, 1779.6029, 2042.9814, 2368.4949, 2192.525, 2501.5964, 3203.9011, 3270.801, 3197.22, 3183.1047, 6971.662, 7906.876, 7473.249, 7768.2593, 7998.0425, 8329.664, 8203.538, 8337.066, 8670.3955, 8711.895, 8834.805, 9036.284, 9158.613, 9313.876, 9735.818, 10013.897, 9860.743, 9969.967, 9675.655, 9254.443, 8960.352, 44017.28, 39953.254, 37538.883, 33686.04, 31641.86, 31064.385, 22659.775, 22131.348, 22558.277, 21952.797, 23124.062, 22639.81, 23654.348, 26976.27, 28475.137, 29667.088, 31831.389, 24506.256, 28203.953, 22405.49, 21142.482, 599.056, 622.0788, 645.2906, 669.50134, 660.4656, 678.4753, 663.4546, 653.86755, 719.46136, 818.67523, 868.6695, 922.1434, 967.2062, 1020.5796, 1099.4447, 979.0958, 1426.1302, 1614.7568, 1753.6006, 1700.5831, 1677.7975, 63325.41, 65422.44, 65146.56, 65296.625, 67222.88, 68395.85, 66740.0, 67568.08, 66484.65, 65268.383, 70448.46, 66766.09, 65277.332, 63014.336, 59946.082, 60683.023, 60943.15, 61101.004, 59348.1, 58836.934, 56705.54, 45268.094, 42436.5, 45016.35, 47813.31, 45600.543, 49324.58, 47853.824, 50583.902, 50031.6, 49562.727, 56732.92, 55054.582, 57458.293, 60432.473, 68428.61, 69502.61, 73955.19, 71473.98, 79704.05, 79064.88, 74262.35, 59543.81, 58485.12, 59589.08, 56734.85, 57499.695, 55352.246, 55087.375, 54356.55, 54010.57, 53337.418, 54097.28, 53886.934, 53929.51, 53825.684, 55530.688, 54939.43, 54612.46, 54745.46, 53424.1, 53259.336, 47384.516, 3180.8794, 3331.2754, 3352.5957, 3514.2737, 3614.3872, 3627.2178, 3595.257, 3692.5571, 3683.9102, 3631.891, 3699.9202, 3835.2747, 3815.5432, 3991.6355, 4173.7993, 4501.891, 4451.653, 4376.1777, 4282.387, 4225.4365, 4237.677, 285.42957, 270.00186, 277.3297, 294.4527, 311.80307, 283.51257, 275.1137, 285.46628, 305.83826, 346.99503, 413.75497, 400.05173, 512.0466, 554.4608, 506.64435, 514.94916, 462.7355, 433.12198, 460.16846, 468.4848, 442.419, 1827.2556, 2013.8263, 2047.175, 2100.6572, 2122.0964, 2259.4753, 1960.8763, 1749.5142, 2047.7776, 1250.4224, 1514.1042, 2095.608, 2033.5441, 2546.1362, 2707.8645, 2495.8333, 2488.9058, 2358.808, 2461.8206, 2482.8318, 2445.0652, 15136.714, 14134.944, 13736.116, 15438.576, 15211.423, 15711.266, 15953.717, 15826.587, 15306.128, 15049.309, 16308.639, 16243.486, 15064.223, 14376.997, 13282.878, 13986.548, 14496.338, 13935.601, 13911.034, 14689.626, 12822.86, 129255.24, 116303.484, 120364.25, 105588.055, 106903.02, 121278.375, 110179.18, 117053.125, 118381.93, 107938.016, 102332.45, 102448.8, 111982.734, 103711.92, 105633.75, 105580.38, 106194.95, 105901.33, 103558.19, 96392.5, 103888.89, 47317.117, 51864.105, 55331.734, 56736.633, 51916.52, 61629.492, 66495.54, 66225.37, 75738.22, 73844.125, 82213.055, 80976.87, 80129.0, 83183.34, 78766.81, 80343.99, 76792.23, 77804.74, 81662.58, 81070.86, 79038.305, 3133.7341, 3109.8933, 3148.9678, 3355.3328, 3651.1396, 3707.498, 3826.2024, 3981.9287, 3915.401, 3879.5596, 3809.4282, 3727.3542, 3401.6624, 3661.0076, 3725.9507, 3867.1926, 4163.3916, 4348.8296, 4419.1685, 4400.1157, 4301.192, 22342.99, 22268.62, 21577.676, 21345.66, 21352.857, 20928.799, 22302.521, 20661.121, 23762.428, 22608.205, 25191.672, 24962.39, 27223.264, 26325.066, 26454.377, 28399.344, 29494.584, 31180.088, 31255.303, 27875.5, 27640.848, 2747.3433, 3037.2134, 3073.6719, 3376.0618, 3651.7664, 3417.0745, 3393.2031, 3544.4324, 3056.953, 3259.054, 2867.5837, 2917.4312, 2741.8088, 2730.9343, 2816.4016, 3170.5203, 3283.4167, 3098.1384, 3150.1516, 3159.5166, 2163.8704, 24335.996, 21277.064, 21856.117, 22881.867, 22449.5, 21752.111, 22537.387, 22409.062, 22887.295, 22453.984, 22447.14, 23345.691, 23638.725, 23514.254, 21944.45, 22191.486, 24718.906, 23435.645, 23139.457, 19903.92, 18493.115, 5528.503, 5407.2314, 5472.09, 5345.9004, 5642.6665, 5816.902, 5834.625, 6303.5713, 6757.0254, 6840.561, 7707.48, 8431.997, 8629.543, 8741.407, 8856.475, 9171.356, 9602.029, 9605.62, 9887.749, 9949.632, 8365.432, 3945.0947, 3776.7449, 3717.366, 3758.5122, 3771.797, 3713.3245, 3471.6638, 3535.2363, 3587.5803, 3563.5925, 3601.5786, 3608.626, 3668.3667, 3865.761, 4002.7449, 4314.0645, 4629.1177, 4989.8896, 5040.644, 5104.391, 4565.3384, 26426.166, 26135.066, 25864.023, 26777.979, 26977.344, 27590.934, 28976.988, 28913.844, 29419.19, 28364.893, 30213.855, 30370.395, 29494.252, 29578.533, 28535.256, 28851.459, 30122.61, 31295.422, 31661.174, 30777.799, 29514.133, 28476.13, 28699.385, 28321.012, 28965.469, 28331.549, 28219.037, 27957.99, 28116.701, 27100.385, 27307.855, 28813.4, 27547.613, 25259.12, 27884.04, 28600.113, 28096.076, 30146.477, 29287.125, 29893.375, 28468.56, 25782.078, 33807.605, 36749.92, 37742.36, 39338.19, 40723.62, 39564.49, 36062.957, 34952.594, 32875.305, 30928.209, 26371.678, 28760.348, 30574.373, 27237.188, 26354.953, 26833.928, 25580.963, 25320.355, 25807.195, 24532.93, 21459.73, 19175.828, 19502.389, 20380.363, 20540.846, 21481.434, 21728.15, 22364.223, 21750.25, 21966.107, 19314.918, 19617.842, 20211.152, 19514.234, 18270.229, 19029.295, 19213.441, 19323.846, 19747.191, 20218.59, 19839.047, 18998.812, 357.7341, 347.05887, 348.555, 338.9526, 318.3206, 300.62256, 283.97528, 282.62943, 289.5234, 297.06317, 324.94382, 351.94574, 376.87762, 390.73227, 403.42975, 436.2136, 429.51797, 458.82095, 491.12625, 525.5729, 496.8982, 16953.34, 17325.975, 18841.998, 18804.082, 20273.662, 18827.416, 19448.727, 20502.656, 20417.77, 20836.158, 20931.088, 21851.84, 21675.412, 21579.867, 21838.453, 22357.986, 22948.984, 22939.45, 23219.201, 23235.219, 19642.783, 9184.194, 9891.598, 8871.31, 9741.581, 9705.236, 9942.035, 9963.842, 10237.039, 10455.242, 10132.104, 10512.177, 10594.858, 10486.784, 10408.478, 10461.293, 10483.141, 10549.006, 11386.956, 10425.025, 15259.877, 12810.415, 6158.8203, 7138.9165, 7730.994, 8126.263, 9015.828, 9096.029, 9072.749, 9295.734, 9347.958, 12625.214, 9376.506, 8740.024, 10656.227, 8768.699, 9080.616, 9347.2705, 9374.356, 10836.359, 9998.609, 8642.675, 7788.496, 5050.979, 5352.6963, 5618.493, 5643.448, 5624.824, 5678.59, 5844.4766, 6201.1836, 6318.109, 6564.24, 6500.349, 6521.698, 6256.2554, 6016.6445, 6062.045, 6971.546, 7356.9272, 7347.693, 7217.7256, 7697.959, 7222.1904, 2032.075, 1865.8683, 2061.275, 2237.827, 2468.292, 2544.832, 2640.5337, 2680.9502, 2823.5872, 2932.4563, 3090.176, 3131.0225, 3240.6765, 3176.864, 3116.3354, 3200.083, 3249.4163, 3250.4734, 3149.711, 3418.4949, 3207.423, 61950.85, 64399.926, 65480.074, 67781.13, 71949.19, 74232.79, 74860.33, 73638.34, 77575.414, 77417.27, 83337.16, 84816.25, 88062.086, 86753.6, 91258.06, 93332.54, 95158.55, 93054.375, 88573.47, 82989.266, 80309.99, 2051.4053, 2183.0105, 2211.216, 2175.09, 2244.3047, 2270.2583, 2172.189, 2281.3833, 2277.5132, 2122.7695, 2142.2065, 2183.9285, 2091.1333, 2117.2896, 2286.8188, 2580.8828, 2429.8923, 2509.5967, 2541.6353, 2753.3909, 2532.4126, 26348.527, 26371.516, 25290.535, 26212.14, 26607.537, 25157.438, 25155.992, 22474.787, 24964.81, 25665.121, 26359.041, 26481.451, 26602.787, 26211.984, 46969.09, 49775.703, 42728.844, 42029.832, 57886.984, 52008.223, 54491.8, 44175.785, 47446.145, 50930.008, 45371.336, 38368.945, 43465.02, 38688.062, 44650.082, 45695.203, 50241.48, 51720.438, 45307.637, 45777.125, 43703.28, 409.26733, 484.6953, 460.83, 454.77032, 438.83154, 386.95203, 457.99765, 423.13287, 405.9387, 396.5688, 458.27347, 564.6626, 610.7244, 692.69556, 743.0, 592.6282, 591.51733, 573.70355, 568.16583, 513.0044, 480.5271, 109289.08, 121494.555, 115456.87, 107484.375, 119262.51, 123551.64, 40591.293, 41766.94, 42124.3, 40913.17, 40008.508, 42086.473, 40946.383, 38418.406, 39431.95, 35687.54, 38080.727, 36591.31, 35105.086, 35936.51, 33419.594, 33734.29, 34015.234, 35774.91, 35121.086, 33892.78, 33193.33, 39623.406, 41459.707, 41222.29, 40319.9, 42659.85, 42491.914, 42687.348, 42242.93, 46037.57, 42289.82, 42123.36, 40734.336, 39508.945, 39029.04, 39987.75, 35959.715, 38266.707, 38524.098, 39165.715, 37905.92, 36542.867, 2456.5134, 2508.6143, 2532.751, 2587.0967, 2689.9602, 2695.842, 2734.6384, 2850.4817, 2828.8801, 2862.0273, 2880.25, 2918.4324, 2854.3516, 2771.7654, 2543.9602, 2266.2014, 2124.6658, 2061.452, 2107.609, 2027.3756, 1877.3191, 340.10217, 332.43317, 346.37854, 334.0552, 322.42703, 314.66333, 307.72528, 302.7935, 291.0338, 283.20413, 283.123, 278.7153, 274.60495, 265.8011, 256.69754, 257.54523, 253.76219, 244.04947, 236.28375, 227.57283, 212.09578, 25321.518, 25228.531, 24361.893, 26150.76, 28271.896, 26508.63, 26793.564, 27245.98, 28867.244, 28399.283, 28247.576, 27552.764, 26770.203, 26525.145, 26411.893, 25352.562, 26236.475, 26033.504, 24742.117, 25511.209, 23568.951, 568.44324, 582.4618, 714.99146, 698.3854, 635.4426, 671.7575, 747.48596, 703.1351, 37495.703, 39003.945, 38938.438, 40418.156, 41185.832, 40779.03, 40681.79, 40817.645, 39067.87, 35904.375, 36714.2, 35901.07, 35681.477, 34008.008, 33478.24, 33920.24, 34212.625, 34520.543, 34986.293, 33764.863, 30391.29, 2851.8083, 2750.116, 2799.956, 2852.4663, 2745.2893, 3140.5315, 3338.2832, 3358.7993, 3134.0298, 3147.0713, 3368.2034, 3623.197, 3708.9927, 3748.5815, 4007.7144, 4476.9307, 4878.142, 4726.284, 4876.866, 4973.5986, 4853.1104, 1182.5435, 1239.9237, 1434.762, 1455.1571, 1560.1315, 1767.6344, 2052.4446, 2118.6284, 2246.169, 2354.9653, 2604.3655, 2462.639, 2326.128, 2385.0166, 2378.8403, 2384.2434, 2684.0552, 2654.5432, 2554.7512, 2459.3628, 2378.228, 17458.83, 16939.615, 18476.682, 16105.433, 18010.424, 18127.873, 19537.414, 18059.73, 21127.252, 21246.133, 25234.633, 20305.736, 21876.135, 20840.512, 20081.727, 18293.592, 18815.174, 21698.678, 21688.73, 21629.324, 20356.205, 72085.086, 77094.32, 71925.88, 68647.01, 73592.02, 75121.83, 70265.69, 70870.68, 69369.7, 63081.84, 66485.91, 64929.965, 68276.21, 63351.668, 62421.89, 63877.484, 62081.117, 63417.605, 61487.004, 63283.47, 59395.523, 50728.715, 53862.72, 49782.92, 48884.53, 47846.156, 45606.344, 47162.11, 46220.9, 47155.75, 46436.273, 44714.965, 41971.254, 43889.645, 44514.03, 41980.58, 40582.914, 37755.19, 37489.188, 37794.062, 39156.45, 35766.375, 9375.051, 9605.366, 9681.626, 9982.501, 9975.018, 10009.744, 9612.615, 8899.638, 8418.195, 7411.4946, 7504.4023, 7255.999, 7500.7905, 7599.0825, 7586.009, 7419.728, 7461.84, 7440.846, 7761.8164, 8041.5947, 7819.3896, 11764.549, 12293.458, 13208.064, 14080.671, 15161.756, 15521.235, 15733.904, 16149.867, 16027.417, 16344.104, 17299.504, 17644.098, 18817.51, 18809.137, 19310.582, 19661.768, 19981.582, 20264.654, 20834.088, 20792.385, 19298.086, 918.548, 790.456, 844.63257, 1026.2677, 983.6732, 934.8484, 792.30255, 939.68665, 1089.204, 1878.3422, 1746.39, 1573.317, 1360.6296, 1350.6348, 1142.6974, 868.2643, 1134.5723, 1072.4285, 1253.3207, 1304.0579, 1152.5186, 4269.8066, 3823.2922, 4121.7227, 5048.9946, 4648.0396, 4922.036, 5507.4424, 4695.1675, 5056.352, 5477.1777, 4973.945, 4697.0693, 4791.762, 4721.155, 5144.9155, 5404.378, 5738.4834, 6831.2397, 5979.639, 6863.2144, 6542.066, 89203.08, 95790.32, 103376.06, 115246.71, 126030.695, 123712.94, 108794.93, 9003.821, 9892.748, 9695.501, 9464.025, 9557.016, 10276.655, 9603.969, 8479.419, 9715.218, 8024.898, 8150.696, 7678.843, 8332.082, 8726.086, 9507.342, 9709.658, 9585.773, 10039.691, 10208.622, 10128.142, 9290.702, 13486.676, 12073.247, 13026.9795, 13613.353, 14380.439, 14507.764, 15888.103, 16664.893, 16521.768, 16535.234, 17211.758, 18146.143, 18988.32, 18532.307, 18718.594, 20173.496, 20824.393, 21773.725, 21345.375, 21973.062, 21435.07, 26223.863, 32628.65, 27147.498, 37007.59, 36185.508, 36145.84, 36023.754, 34462.887, 27853.562, 44702.367, 47374.234, 51670.953, 55318.344, 48244.71, 49096.004, 57717.438, 56153.7, 54625.52, 59849.832, 57961.055, 67626.92, 0.0, 0.0, 0.0, 0.0, 0.0, 0.0, 0.0, 0.0, 0.0, 0.0, 0.0, 0.0, 0.0, 0.0, 0.0, 0.0, 0.0, 0.0, 0.0, 0.0, 0.0, 430.94543, 426.19104, 423.49295, 432.8561, 447.65942, 493.46793, 465.70273, 545.6078, 557.28687, 552.86536, 604.4495, 614.26904, 577.6927, 651.41376, 728.95105, 707.7433, 765.0577, 804.89435, 841.20447, 811.62756, 766.4143, 32435.855, 32281.633, 32374.943, 33439.895, 33554.93, 34223.043, 34864.605, 34933.59, 33911.27, 29011.01, 31235.12, 32400.47, 31779.547, 30228.559, 26764.613, 22306.594, 23419.848, 21840.365, 22768.459, 21661.146, 20916.844, 115803.19, 114656.625, 119056.13, 123958.766, 129486.234, 127985.82, 126073.66, 45275.645, 45559.023, 44332.9, 44750.703, 44856.6, 44937.305, 44057.82, 42517.13, 41451.902, 39040.56, 39540.008, 37007.074, 37292.91, 36881.977, 34583.77, 34890.32, 34296.684, 34098.812, 33771.496, 32893.76, 29425.54, 93999.86, 90772.18, 91201.06, 90619.11, 91504.484, 90654.53, 89067.04, 89395.14, 86378.65, 81376.18, 83397.48, 81962.36, 79102.34, 80556.516, 80725.086, 79317.37, 78613.54, 78289.01, 80583.34, 79489.016, 73236.14, 14601.469, 15946.608, 14137.804, 14181.147, 13627.525, 14696.39, 13377.3125, 15803.453, 16750.07, 17655.945, 18292.451, 17861.395, 17839.785, 18592.736, 19071.291, 19596.402, 19814.26, 19084.248, 19538.71, 19985.01, 17631.44, 24053.547, 23824.65, 24111.441, 21826.992, 21485.61, 21171.098, 19566.176, 20663.172, 19085.639, 18643.188, 18563.715, 19236.137, 18406.984, 18200.295, 18518.158, 17386.195, 16374.342, 16642.676, 16445.74, 16212.221, 15860.609, 1988.2789, 2158.8423, 2008.1954, 2298.1453, 1804.7319, 1761.5437, 1595.11, 2524.6426, 2429.7217, 2740.9023, 2766.5137, 3125.876, 2561.162, 2422.6257, 2701.0388, 2484.069, 2445.8684, 2661.3218, 3346.0903, 3154.4717, 2923.538, 3228.2104, 3380.4053, 3320.3242, 3707.2222, 3811.3972, 3906.3083, 3788.2456, 3902.2861, 3976.8901, 4277.2236, 4030.7585, 3289.4512, 2769.04, 3797.829, 3495.329, 1837.1029, 1432.5522, 1288.8767, 1170.7261, 1475.9852, 1092.0021, 2951.3672, 2997.7124, 3006.324, 3019.908, 3012.9995, 3068.1736, 3064.4688, 2793.334, 2786.6501, 2734.891, 2768.134, 2998.1587, 3116.7373, 3198.5288, 3323.3853, 3115.0676, 2846.699, 3202.0718, 3494.5369, 2983.8816, 3099.083, 4919.5225, 4614.9575, 4561.243, 4397.342, 4045.2322, 4160.4126, 4158.7817, 4036.7202, 3324.8596, 3254.282, 3592.6724, 3860.7898, 4106.9497, 4085.332, 3940.8862, 3860.9202, 3227.6802, 3068.0115, 3441.9858, 3003.6553, 2680.1318'"
            ],
            "application/vnd.google.colaboratory.intrinsic+json": {
              "type": "string"
            }
          },
          "metadata": {},
          "execution_count": 161
        }
      ]
    },
    {
      "cell_type": "markdown",
      "source": [
        "### Пример реализации одного метода"
      ],
      "metadata": {
        "id": "dRQRyxdgD_sk"
      }
    },
    {
      "cell_type": "code",
      "source": [
        "from statistics import median, mean\n",
        "\n",
        "class Outline:\n",
        "  def __init__(self, df):\n",
        "    self.df = df\n",
        "\n",
        "  def delete_outline_by_mean(self, column_name):\n",
        "    mean_data = mean(self.df[column_name])\n",
        "    maximum = mean_data * 2\n",
        "    result = []\n",
        "\n",
        "    for item in self.df[column_name]:\n",
        "      if abs(item - mean_data) < maximum:\n",
        "        result.append(item)\n",
        "\n",
        "    return result\n",
        "\n"
      ],
      "metadata": {
        "id": "lJEOQcx0vavH"
      },
      "execution_count": 105,
      "outputs": []
    },
    {
      "cell_type": "code",
      "source": [
        "data = pd.DataFrame(\n",
        "    data = {\n",
        "        \"col1\": [1, 2, 3, 4, 5, 1000],\n",
        "        \"col2\": [1, 2, 3, 2, 1, 4]\n",
        "    }\n",
        ")\n",
        "\n",
        "so = Outline(data)\n",
        "so.delete_outline_by_mean('col1')"
      ],
      "metadata": {
        "colab": {
          "base_uri": "https://localhost:8080/"
        },
        "id": "1EViTEon8Rkj",
        "outputId": "0508581c-0329-42e6-a10b-0ba403093aa8"
      },
      "execution_count": 106,
      "outputs": [
        {
          "output_type": "execute_result",
          "data": {
            "text/plain": [
              "[1, 2, 3, 4, 5]"
            ]
          },
          "metadata": {},
          "execution_count": 106
        }
      ]
    }
  ]
}